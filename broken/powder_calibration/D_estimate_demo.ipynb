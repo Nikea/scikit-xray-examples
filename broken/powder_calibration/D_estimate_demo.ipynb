{
 "cells": [
  {
   "cell_type": "code",
   "execution_count": 1,
   "metadata": {
    "collapsed": false
   },
   "outputs": [],
   "source": [
    "import matplotlib\n",
    "#%matplotlib inline\n",
    "import matplotlib.pyplot as plt\n",
    "from matplotlib.patches import Circle\n",
    "from matplotlib.colors import LogNorm\n",
    "from copy import copy"
   ]
  },
  {
   "cell_type": "code",
   "execution_count": 2,
   "metadata": {
    "collapsed": false
   },
   "outputs": [
    {
     "name": "stderr",
     "output_type": "stream",
     "text": [
      "WARNING:skbeam.core.constants.xrf:Xraylib is not installed on your machine. xraylib is not installed. Please see https://github.com/tschoonj/xraylib or https://binstar.org/tacaswell/xraylib for help on installing xraylib\n",
      "/reg/neh/home/yoon82/anaconda3/lib/python3.5/site-packages/IPython/html.py:14: ShimWarning: The `IPython.html` package has been deprecated. You should import from `notebook` instead. `IPython.html.widgets` has moved to `ipywidgets`.\n",
      "  \"`IPython.html.widgets` has moved to `ipywidgets`.\", ShimWarning)\n"
     ]
    }
   ],
   "source": [
    "import skbeam\n",
    "from skbeam.core.image import find_ring_center_acorr_1D\n",
    "from skbeam.core.utils import bin_1D, radial_grid, bin_edges_to_centers\n",
    "from skbeam.core.calibration import estimate_d_blind, refine_center\n",
    "from skbeam.core.utils import img_to_relative_xyi\n",
    "import numpy as np\n",
    "from pims.api import TiffStack #from pims.tiff_stack import TiffStack_tifffile as TiffStack\n",
    "import os.path\n",
    "pixel_size = (.2, .2)"
   ]
  },
  {
   "cell_type": "markdown",
   "metadata": {},
   "source": [
    "## Define some helpful functions"
   ]
  },
  {
   "cell_type": "code",
   "execution_count": 103,
   "metadata": {
    "collapsed": false
   },
   "outputs": [],
   "source": [
    "def estimate_d(img, name, wavelength, pixel_size):\n",
    "    # find the center\n",
    "    res = find_ring_center_acorr_1D(img)\n",
    "    res2 = refine_center(img, res, pixel_size, 25, 5, thresh=0.1, window_size=5)\n",
    "    x,y,I = img_to_relative_xyi(img, res2[1], res2[0], pixel_size[1], pixel_size[0])\n",
    "    # used to be bins, sums, counts\n",
    "    d=np.sqrt(x**2+y**2)\n",
    "    # number of bins is set to 3 times the maximum of d\n",
    "    bins,sums,counts = bin_1D(d,I,nx=np.max(d)*3)\n",
    "    mask = counts > 10\n",
    "    bin_centers = bin_edges_to_centers(bins)[mask]\n",
    "    ring_averages = sums[mask] / counts[mask]    \n",
    "    d_mean, d_std = estimate_d_blind(name,wavelength, bin_centers,\n",
    "                                     ring_averages, 5, 7, thresh=0.03)\n",
    "    return d_mean, d_std, res2\n",
    "\n",
    "\n",
    "def show_rings_on_image(ax, image, ring_radius, center):\n",
    "    vmin, vmax = np.percentile(image, [80, 100])\n",
    "    my_cmap = copy(matplotlib.cm.get_cmap('gray'))\n",
    "    my_cmap.set_bad('k')\n",
    "    im = ax.imshow(image, cmap=my_cmap, interpolation='none', norm=LogNorm(), vmin=vmin, vmax=vmax)\n",
    "    for r in ring_radius:\n",
    "        c = Circle(center[::-1], r , facecolor='none', edgecolor='r', lw=2, linestyle='dashed')\n",
    "        ax.add_patch(c)\n",
    "    ax.axhline(center[0], color='r')\n",
    "    ax.axvline(center[1], color='r')\n",
    "\n",
    "    ax.set_ylim([center[0] - ring_radius[-1], center[0] + ring_radius[-1]])\n",
    "    ax.set_xlim([center[1] - ring_radius[-1], center[1] + ring_radius[-1]])"
   ]
  },
  {
   "cell_type": "markdown",
   "metadata": {},
   "source": [
    "## Setup data for Si standard sample"
   ]
  },
  {
   "cell_type": "code",
   "execution_count": 16,
   "metadata": {
    "collapsed": false
   },
   "outputs": [
    {
     "data": {
      "text/plain": [
       "<matplotlib.image.AxesImage at 0x2b8c176b0c88>"
      ]
     },
     "execution_count": 16,
     "metadata": {},
     "output_type": "execute_result"
    }
   ],
   "source": [
    "si_fname = 'Si_STD_d204-00002.tif'\n",
    "si_name = 'Si'\n",
    "si_wavelength = 0.1839\n",
    "si_data = TiffStack(si_fname,dtype='int')#np.uint32)\n",
    "fig, ax = plt.subplots(figsize=(10,10))\n",
    "ax.imshow(si_data[0],interpolation='none')\n",
    "plt.show()"
   ]
  },
  {
   "cell_type": "markdown",
   "metadata": {},
   "source": [
    "## Setup data for LaB6 calibration standard"
   ]
  },
  {
   "cell_type": "code",
   "execution_count": 102,
   "metadata": {
    "collapsed": false
   },
   "outputs": [],
   "source": [
    "lab6_fname = 'LaB6_d500-0p72959-2Kx2K_pix200.tif'\n",
    "lab6_name = 'LaB6'\n",
    "lab6_wavelength = .72959\n",
    "lab6_data = TiffStack(lab6_fname, dtype='int')#np.uint32)\n",
    "fig, ax = plt.subplots(figsize=(10,10))\n",
    "ax.imshow(np.log(lab6_data[0]),interpolation='none')\n",
    "plt.show()"
   ]
  },
  {
   "cell_type": "markdown",
   "metadata": {},
   "source": [
    "## Calibrate Si data"
   ]
  },
  {
   "cell_type": "code",
   "execution_count": 97,
   "metadata": {
    "collapsed": false
   },
   "outputs": [
    {
     "name": "stdout",
     "output_type": "stream",
     "text": [
      "D: 206.54687354536938 ± 0.44676404752969634\n",
      "center: (1040.5375337561584, 1020.3334525778171)\n"
     ]
    }
   ],
   "source": [
    "# Actual estimate_d function call\n",
    "calib_si = estimate_d(si_data[0], si_name, si_wavelength, pixel_size)\n",
    "print(\"D: {} ± {}\".format(calib_si[0], calib_si[1]))\n",
    "print(\"center: {}\".format(calib_si[2]))"
   ]
  },
  {
   "cell_type": "code",
   "execution_count": 98,
   "metadata": {
    "collapsed": false
   },
   "outputs": [],
   "source": [
    "cal_si = skbeam.core.calibration.calibration_standards['Si']\n",
    "si_rings = calib_si[0] * np.tan(cal_si.convert_2theta(si_wavelength)) / .2\n",
    "fig, ax = plt.subplots()\n",
    "show_rings_on_image(ax, si_data[0], si_rings, calib_si[2])\n",
    "plt.show()"
   ]
  },
  {
   "cell_type": "markdown",
   "metadata": {},
   "source": [
    "## Calibrate using Lab 6 data"
   ]
  },
  {
   "cell_type": "code",
   "execution_count": 99,
   "metadata": {
    "collapsed": false
   },
   "outputs": [
    {
     "name": "stdout",
     "output_type": "stream",
     "text": [
      "D: 493.24928496090615 ± 0.44625343620719043\n",
      "center: (1011.735038759629, 1027.5116910034903)\n"
     ]
    }
   ],
   "source": [
    "calib_lab6 = estimate_d(lab6_data[0], lab6_name, lab6_wavelength, pixel_size)\n",
    "print(\"D: {} ± {}\".format(calib_lab6[0], calib_lab6[1]))\n",
    "print(\"center: {}\".format(calib_lab6[2]))"
   ]
  },
  {
   "cell_type": "code",
   "execution_count": 101,
   "metadata": {
    "collapsed": false
   },
   "outputs": [
    {
     "ename": "NameError",
     "evalue": "name 'nsls2' is not defined",
     "output_type": "error",
     "traceback": [
      "\u001b[1;31m---------------------------------------------------------------------------\u001b[0m",
      "\u001b[1;31mNameError\u001b[0m                                 Traceback (most recent call last)",
      "\u001b[1;32m<ipython-input-101-9ff8a59d7aad>\u001b[0m in \u001b[0;36m<module>\u001b[1;34m()\u001b[0m\n\u001b[1;32m----> 1\u001b[1;33m \u001b[0mcal_lab6\u001b[0m \u001b[1;33m=\u001b[0m \u001b[0mnsls2\u001b[0m\u001b[1;33m.\u001b[0m\u001b[0mcalibration\u001b[0m\u001b[1;33m.\u001b[0m\u001b[0mcalibration_standards\u001b[0m\u001b[1;33m[\u001b[0m\u001b[1;34m'LaB6'\u001b[0m\u001b[1;33m]\u001b[0m\u001b[1;33m\u001b[0m\u001b[0m\n\u001b[0m\u001b[0;32m      2\u001b[0m \u001b[0mlab6_rings\u001b[0m \u001b[1;33m=\u001b[0m \u001b[0mcalib_lab6\u001b[0m\u001b[1;33m[\u001b[0m\u001b[1;36m0\u001b[0m\u001b[1;33m]\u001b[0m \u001b[1;33m*\u001b[0m \u001b[0mnp\u001b[0m\u001b[1;33m.\u001b[0m\u001b[0mtan\u001b[0m\u001b[1;33m(\u001b[0m\u001b[0mcal_lab6\u001b[0m\u001b[1;33m.\u001b[0m\u001b[0mconvert_2theta\u001b[0m\u001b[1;33m(\u001b[0m\u001b[0mlab6_wavelength\u001b[0m\u001b[1;33m)\u001b[0m\u001b[1;33m)\u001b[0m \u001b[1;33m/\u001b[0m \u001b[1;36m.2\u001b[0m\u001b[1;33m\u001b[0m\u001b[0m\n\u001b[0;32m      3\u001b[0m \u001b[0mfig\u001b[0m\u001b[1;33m,\u001b[0m \u001b[0max\u001b[0m \u001b[1;33m=\u001b[0m \u001b[0mplt\u001b[0m\u001b[1;33m.\u001b[0m\u001b[0msubplots\u001b[0m\u001b[1;33m(\u001b[0m\u001b[1;33m)\u001b[0m\u001b[1;33m\u001b[0m\u001b[0m\n\u001b[0;32m      4\u001b[0m \u001b[0mshow_rings_on_image\u001b[0m\u001b[1;33m(\u001b[0m\u001b[0max\u001b[0m\u001b[1;33m,\u001b[0m \u001b[0mlab6_data\u001b[0m\u001b[1;33m[\u001b[0m\u001b[1;36m0\u001b[0m\u001b[1;33m]\u001b[0m\u001b[1;33m,\u001b[0m \u001b[0mlab6_rings\u001b[0m\u001b[1;33m,\u001b[0m \u001b[0mcalib_lab6\u001b[0m\u001b[1;33m[\u001b[0m\u001b[1;36m2\u001b[0m\u001b[1;33m]\u001b[0m\u001b[1;33m)\u001b[0m\u001b[1;33m\u001b[0m\u001b[0m\n\u001b[0;32m      5\u001b[0m \u001b[0max\u001b[0m\u001b[1;33m.\u001b[0m\u001b[0mset_xlim\u001b[0m\u001b[1;33m(\u001b[0m\u001b[1;33m[\u001b[0m\u001b[1;36m0\u001b[0m\u001b[1;33m,\u001b[0m \u001b[0mlab6_data\u001b[0m\u001b[1;33m.\u001b[0m\u001b[0mframe_shape\u001b[0m\u001b[1;33m[\u001b[0m\u001b[1;36m0\u001b[0m\u001b[1;33m]\u001b[0m\u001b[1;33m]\u001b[0m\u001b[1;33m)\u001b[0m\u001b[1;33m\u001b[0m\u001b[0m\n",
      "\u001b[1;31mNameError\u001b[0m: name 'nsls2' is not defined"
     ]
    }
   ],
   "source": [
    "cal_lab6 = nsls2.calibration.calibration_standards['LaB6']\n",
    "lab6_rings = calib_lab6[0] * np.tan(cal_lab6.convert_2theta(lab6_wavelength)) / .2\n",
    "fig, ax = plt.subplots()\n",
    "show_rings_on_image(ax, lab6_data[0], lab6_rings, calib_lab6[2])\n",
    "ax.set_xlim([0, lab6_data.frame_shape[0]])\n",
    "ax.set_ylim([0, lab6_data.frame_shape[1]])\n",
    "plt.show()"
   ]
  },
  {
   "cell_type": "code",
   "execution_count": null,
   "metadata": {
    "collapsed": true
   },
   "outputs": [],
   "source": []
  }
 ],
 "metadata": {
  "kernelspec": {
   "display_name": "Python 3",
   "language": "python",
   "name": "python3"
  },
  "language_info": {
   "codemirror_mode": {
    "name": "ipython",
    "version": 3
   },
   "file_extension": ".py",
   "mimetype": "text/x-python",
   "name": "python",
   "nbconvert_exporter": "python",
   "pygments_lexer": "ipython3",
   "version": "3.5.1"
  }
 },
 "nbformat": 4,
 "nbformat_minor": 0
}
