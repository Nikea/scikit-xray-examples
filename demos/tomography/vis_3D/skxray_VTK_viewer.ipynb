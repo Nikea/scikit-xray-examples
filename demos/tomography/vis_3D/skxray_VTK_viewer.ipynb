{
 "cells": [
  {
   "cell_type": "code",
   "execution_count": null,
   "metadata": {
    "collapsed": true
   },
   "outputs": [],
   "source": []
  },
  {
   "cell_type": "code",
   "execution_count": 1,
   "metadata": {
    "collapsed": false
   },
   "outputs": [],
   "source": [
    "import vtk\n",
    "import numpy as np\n",
    "from skxray.io import vtk_tools\n",
    "import pims"
   ]
  },
  {
   "cell_type": "markdown",
   "metadata": {},
   "source": [
    "# Load Demo Data"
   ]
  },
  {
   "cell_type": "markdown",
   "metadata": {},
   "source": [
    "The three initial data sets included in this example consist of a cropped region of a packed bead column (porous medium) within which biofilm was grown as part of an experiment examining the affect of fluid flow rate (hydraulic loading) on biofilm growth and development."
   ]
  },
  {
   "cell_type": "code",
   "execution_count": 2,
   "metadata": {
    "collapsed": false
   },
   "outputs": [
    {
     "name": "stdout",
     "output_type": "stream",
     "text": [
      "beads\n",
      "biofilm\n",
      "barium\n",
      "label_field\n"
     ]
    }
   ],
   "source": [
    "# Segmented data file names\n",
    "fnames = ['demoThresh_Beads1.tif', 'demoThresh_Biofilm1.tif', 'demoThresh_Barium1.tif', 'LabelField.tif']\n",
    "\n",
    "for index, val in enumerate(['beads', 'biofilm', 'barium', 'label_field']):\n",
    "    globals()[val] = fnames[index]\n",
    "    print val"
   ]
  },
  {
   "cell_type": "code",
   "execution_count": 3,
   "metadata": {
    "collapsed": false
   },
   "outputs": [
    {
     "data": {
      "text/plain": [
       "'demoThresh_Beads1.tif'"
      ]
     },
     "execution_count": 3,
     "metadata": {},
     "output_type": "execute_result"
    }
   ],
   "source": [
    "beads"
   ]
  },
  {
   "cell_type": "code",
   "execution_count": 4,
   "metadata": {
    "collapsed": false
   },
   "outputs": [],
   "source": [
    "data_matrix = np.zeros([75, 75, 75], dtype='uint8')\n",
    "data_matrix[0:35, 0:35, 0:35] = 50\n",
    "data_matrix[25:55, 25:55, 25:55] = 100\n",
    "data_matrix[45:74, 45:74, 45:74] = 150"
   ]
  },
  {
   "cell_type": "code",
   "execution_count": 5,
   "metadata": {
    "collapsed": false
   },
   "outputs": [
    {
     "data": {
      "text/plain": [
       "array([[[ 50,  50,  50, ...,   0,   0,   0],\n",
       "        [ 50,  50,  50, ...,   0,   0,   0],\n",
       "        [ 50,  50,  50, ...,   0,   0,   0],\n",
       "        ..., \n",
       "        [  0,   0,   0, ...,   0,   0,   0],\n",
       "        [  0,   0,   0, ...,   0,   0,   0],\n",
       "        [  0,   0,   0, ...,   0,   0,   0]],\n",
       "\n",
       "       [[ 50,  50,  50, ...,   0,   0,   0],\n",
       "        [ 50,  50,  50, ...,   0,   0,   0],\n",
       "        [ 50,  50,  50, ...,   0,   0,   0],\n",
       "        ..., \n",
       "        [  0,   0,   0, ...,   0,   0,   0],\n",
       "        [  0,   0,   0, ...,   0,   0,   0],\n",
       "        [  0,   0,   0, ...,   0,   0,   0]],\n",
       "\n",
       "       [[ 50,  50,  50, ...,   0,   0,   0],\n",
       "        [ 50,  50,  50, ...,   0,   0,   0],\n",
       "        [ 50,  50,  50, ...,   0,   0,   0],\n",
       "        ..., \n",
       "        [  0,   0,   0, ...,   0,   0,   0],\n",
       "        [  0,   0,   0, ...,   0,   0,   0],\n",
       "        [  0,   0,   0, ...,   0,   0,   0]],\n",
       "\n",
       "       ..., \n",
       "       [[  0,   0,   0, ...,   0,   0,   0],\n",
       "        [  0,   0,   0, ...,   0,   0,   0],\n",
       "        [  0,   0,   0, ...,   0,   0,   0],\n",
       "        ..., \n",
       "        [  0,   0,   0, ..., 150, 150,   0],\n",
       "        [  0,   0,   0, ..., 150, 150,   0],\n",
       "        [  0,   0,   0, ...,   0,   0,   0]],\n",
       "\n",
       "       [[  0,   0,   0, ...,   0,   0,   0],\n",
       "        [  0,   0,   0, ...,   0,   0,   0],\n",
       "        [  0,   0,   0, ...,   0,   0,   0],\n",
       "        ..., \n",
       "        [  0,   0,   0, ..., 150, 150,   0],\n",
       "        [  0,   0,   0, ..., 150, 150,   0],\n",
       "        [  0,   0,   0, ...,   0,   0,   0]],\n",
       "\n",
       "       [[  0,   0,   0, ...,   0,   0,   0],\n",
       "        [  0,   0,   0, ...,   0,   0,   0],\n",
       "        [  0,   0,   0, ...,   0,   0,   0],\n",
       "        ..., \n",
       "        [  0,   0,   0, ...,   0,   0,   0],\n",
       "        [  0,   0,   0, ...,   0,   0,   0],\n",
       "        [  0,   0,   0, ...,   0,   0,   0]]], dtype=uint8)"
      ]
     },
     "execution_count": 5,
     "metadata": {},
     "output_type": "execute_result"
    }
   ],
   "source": [
    "data_matrix"
   ]
  },
  {
   "cell_type": "code",
   "execution_count": 6,
   "metadata": {
    "collapsed": false
   },
   "outputs": [],
   "source": [
    "# An example from scipy cookbook demonstrating the use of numpy arrys in vtk \n",
    "\n",
    "data_matrix\n",
    "\n",
    "dataImporter = vtk_tools.np_to_vtk(data_matrix)"
   ]
  },
  {
   "cell_type": "code",
   "execution_count": 7,
   "metadata": {
    "collapsed": false
   },
   "outputs": [],
   "source": [
    "\n",
    "# The following two functions describe how the data is stored and the dimensions of the array it is stored in. For this\n",
    "# simple case, all axes are of length 75 and begins with the first element. For other data, this is probably not the case.\n",
    "# I have to admit however, that I honestly dont know the difference between SetDataExtent() and SetWholeExtent() although\n",
    "# VTK complains if not both are used.\n",
    "dataImporter.SetDataExtent(0, 74, 0, 74, 0, 74)\n",
    "dataImporter.SetWholeExtent(0, 74, 0, 74, 0, 74)\n",
    " \n",
    "# The following class is used to store transparencyv-values for later retrival. In our case, we want the value 0 to be\n",
    "# completly opaque whereas the three different cubes are given different transperancy-values to show how it works.\n",
    "alphaChannelFunc = vtk.vtkPiecewiseFunction()\n",
    "alphaChannelFunc.AddPoint(0, 0.0)\n",
    "alphaChannelFunc.AddPoint(50, 0.05)\n",
    "alphaChannelFunc.AddPoint(100, 0.1)\n",
    "alphaChannelFunc.AddPoint(150, 0.2)\n",
    " \n",
    "# This class stores color data and can create color tables from a few color points. For this demo, we want the three cubes\n",
    "# to be of the colors red green and blue.\n",
    "colorFunc = vtk.vtkColorTransferFunction()\n",
    "colorFunc.AddRGBPoint(50, 1.0, 0.0, 0.0)\n",
    "colorFunc.AddRGBPoint(100, 0.0, 1.0, 0.0)\n",
    "colorFunc.AddRGBPoint(150, 0.0, 0.0, 1.0)\n",
    " \n",
    "# The preavius two classes stored properties. Because we want to apply these properties to the volume we want to render,\n",
    "# we have to store them in a class that stores volume prpoperties.\n",
    "volumeProperty = vtk.vtkVolumeProperty()\n",
    "volumeProperty.SetColor(colorFunc)\n",
    "volumeProperty.SetScalarOpacity(alphaChannelFunc)\n"
   ]
  },
  {
   "cell_type": "code",
   "execution_count": 8,
   "metadata": {
    "collapsed": false
   },
   "outputs": [],
   "source": [
    "vtk_tools.vtk_viewer(dataImporter, volumeProperty)"
   ]
  },
  {
   "cell_type": "code",
   "execution_count": null,
   "metadata": {
    "collapsed": false
   },
   "outputs": [],
   "source": []
  },
  {
   "cell_type": "code",
   "execution_count": null,
   "metadata": {
    "collapsed": false
   },
   "outputs": [],
   "source": []
  },
  {
   "cell_type": "code",
   "execution_count": null,
   "metadata": {
    "collapsed": false
   },
   "outputs": [],
   "source": []
  }
 ],
 "metadata": {
  "kernelspec": {
   "display_name": "Python 2",
   "language": "python",
   "name": "python2"
  },
  "language_info": {
   "codemirror_mode": {
    "name": "ipython",
    "version": 2
   },
   "file_extension": ".py",
   "mimetype": "text/x-python",
   "name": "python",
   "nbconvert_exporter": "python",
   "pygments_lexer": "ipython2",
   "version": "2.7.10"
  }
 },
 "nbformat": 4,
 "nbformat_minor": 0
}
