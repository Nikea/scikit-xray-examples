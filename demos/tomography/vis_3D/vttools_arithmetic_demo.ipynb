{
 "cells": [
  {
   "cell_type": "code",
   "execution_count": 1,
   "metadata": {
    "collapsed": false
   },
   "outputs": [
    {
     "ename": "ImportError",
     "evalue": "No module named image_proc",
     "output_type": "error",
     "traceback": [
      "\u001b[1;31m---------------------------------------------------------------------------\u001b[0m",
      "\u001b[1;31mImportError\u001b[0m                               Traceback (most recent call last)",
      "\u001b[1;32m<ipython-input-1-4b7402324e03>\u001b[0m in \u001b[0;36m<module>\u001b[1;34m()\u001b[0m\n\u001b[0;32m      5\u001b[0m \u001b[1;33m\u001b[0m\u001b[0m\n\u001b[0;32m      6\u001b[0m \u001b[1;32mfrom\u001b[0m \u001b[0mskxray\u001b[0m\u001b[1;33m.\u001b[0m\u001b[0mio\u001b[0m \u001b[1;32mimport\u001b[0m \u001b[0mvtk_tools\u001b[0m\u001b[1;33m\u001b[0m\u001b[0m\n\u001b[1;32m----> 7\u001b[1;33m \u001b[1;32mfrom\u001b[0m \u001b[0mvttools\u001b[0m\u001b[1;33m.\u001b[0m\u001b[0mto_wrap\u001b[0m\u001b[1;33m.\u001b[0m\u001b[0mimage_proc\u001b[0m \u001b[1;32mimport\u001b[0m \u001b[0marithmetic\u001b[0m\u001b[1;33m,\u001b[0m \u001b[0marithmetic_expression\u001b[0m\u001b[1;33m\u001b[0m\u001b[0m\n\u001b[0m",
      "\u001b[1;31mImportError\u001b[0m: No module named image_proc"
     ]
    }
   ],
   "source": [
    "%matplotlib inline\n",
    "import matplotlib.pyplot as plt\n",
    "import vtk\n",
    "import numpy as np\n",
    "\n",
    "from skxray.io import vtk_tools\n",
    "from vttools.to_wrap.image_proc import arithmetic, arithmetic_expression"
   ]
  },
  {
   "cell_type": "code",
   "execution_count": null,
   "metadata": {
    "collapsed": false
   },
   "outputs": [],
   "source": [
    "data_matrix1 = np.zeros([75, 75, 75], dtype='uint8')\n",
    "data_matrix1[0:35, 0:35, 0:35] = 50\n",
    "\n",
    "data_matrix2 = np.zeros([75, 75, 75], dtype='uint8')\n",
    "data_matrix2[25:55, 25:55, 25:55] = 100\n",
    "\n",
    "data_matrix3 = np.zeros([75, 75, 75], dtype='uint8')\n",
    "data_matrix3[45:74, 45:74, 45:74] = 150"
   ]
  },
  {
   "cell_type": "markdown",
   "metadata": {},
   "source": [
    "## "
   ]
  },
  {
   "cell_type": "code",
   "execution_count": null,
   "metadata": {
    "collapsed": false
   },
   "outputs": [],
   "source": [
    "#Arithmetic example #1\n",
    "merge_demo1 = arithmetic('addition', data_matrix1, data_matrix2)\n",
    "\n",
    "merge_demo1 = arithmetic('addition', merge_demo1, data_matrix3)"
   ]
  },
  {
   "cell_type": "code",
   "execution_count": null,
   "metadata": {
    "collapsed": false
   },
   "outputs": [],
   "source": [
    "#Arithmetic example 2\n",
    "merge_demo2 = arithmetic_expression('A*B+C', data_matrix1, data_matrix2, data_matrix3)"
   ]
  },
  {
   "cell_type": "code",
   "execution_count": null,
   "metadata": {
    "collapsed": false
   },
   "outputs": [],
   "source": [
    "# Data Conversion from numpy to VTK object\n",
    "\n",
    "vtkDemo_cube1 = vtk_tools.np_to_vtk(data_matrix2)\n",
    "\n",
    "vtkDemo_merge1 = vtk_tools.np_to_vtk(merge_demo1)\n",
    "\n",
    "vtkDemo_merge2 = vtk_tools.np_to_vtk(merge_demo2)"
   ]
  },
  {
   "cell_type": "code",
   "execution_count": null,
   "metadata": {
    "collapsed": false
   },
   "outputs": [],
   "source": [
    "volumeProperty = vtk_tools.vtk_vis_props(vtkDemo_cube1)\n",
    "vtk_tools.vtk_viewer(vtkDemo_cube1, volumeProperty)"
   ]
  },
  {
   "cell_type": "code",
   "execution_count": null,
   "metadata": {
    "collapsed": false
   },
   "outputs": [],
   "source": [
    "volumeProperty = vtk_tools.vtk_vis_props(vtkDemo_merge1)\n",
    "vtk_tools.vtk_viewer(vtkDemo_merge1, volumeProperty)"
   ]
  },
  {
   "cell_type": "code",
   "execution_count": null,
   "metadata": {
    "collapsed": false
   },
   "outputs": [],
   "source": [
    "volumeProperty = vtk_tools.vtk_vis_props(vtkDemo_merge2)\n",
    "vtk_tools.vtk_viewer(vtkDemo_merge2, volumeProperty)"
   ]
  },
  {
   "cell_type": "code",
   "execution_count": null,
   "metadata": {
    "collapsed": false
   },
   "outputs": [],
   "source": []
  }
 ],
 "metadata": {
  "kernelspec": {
   "display_name": "Python 2",
   "language": "python",
   "name": "python2"
  },
  "language_info": {
   "codemirror_mode": {
    "name": "ipython",
    "version": 2
   },
   "file_extension": ".py",
   "mimetype": "text/x-python",
   "name": "python",
   "nbconvert_exporter": "python",
   "pygments_lexer": "ipython2",
   "version": "2.7.10"
  }
 },
 "nbformat": 4,
 "nbformat_minor": 0
}
