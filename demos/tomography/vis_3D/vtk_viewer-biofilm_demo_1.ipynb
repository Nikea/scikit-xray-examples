{
 "cells": [
  {
   "cell_type": "code",
   "execution_count": null,
   "metadata": {
    "collapsed": true
   },
   "outputs": [],
   "source": []
  },
  {
   "cell_type": "code",
   "execution_count": 1,
   "metadata": {
    "collapsed": false
   },
   "outputs": [],
   "source": [
    "import vtk\n",
    "import numpy as np\n",
    "from skxray.io import vtk_tools, tiff_io\n",
    "import pims\n",
    "%matplotlib inline\n",
    "import matplotlib.pyplot as plt"
   ]
  },
  {
   "cell_type": "code",
   "execution_count": 2,
   "metadata": {
    "collapsed": false
   },
   "outputs": [],
   "source": [
    "from vtk.numpy_interface import dataset_adapter as dsa\n",
    "\n",
    "from vtk.numpy_interface import algorithms as algs \n"
   ]
  },
  {
   "cell_type": "code",
   "execution_count": 116,
   "metadata": {
    "collapsed": false
   },
   "outputs": [],
   "source": [
    "_prism_data = {\n",
    "        'red': lambda x: 0.75 * np.sin((x * 20.9 + 0.25) * np.pi) + 0.67,\n",
    "        'green': lambda x: 0.75 * np.sin((x * 20.9 - 0.25) * np.pi) + 0.33,\n",
    "        'blue': lambda x: -1.1 * np.sin((x * 20.9) * np.pi),\n",
    "}\n",
    "datad = {'prism': _prism_data}\n",
    "\n",
    "cm_label = ((0.0, 255.0, 0.0), # 1 -- Lime Green\n",
    "            (255.0, 223.0, 0.0), # 2 -- Golden yellow\n",
    "            (135.0, 206.0, 250.0), # 3 -- Sky Blue\n",
    "            (220.0, 20.0, 60.0), # 4 -- Crimson\n",
    "            (0.0, 128.0, 0.0), # 5 -- Green\n",
    "            (255.0, 140.0, 0.0), # 6 -- Dark Orange\n",
    "            (0.0, 0.0, 255.0), # 7 -- Blue\n",
    "            (138.0, 43.0, 226.0), # 8 -- Blue Violet\n",
    "            (46.0, 139.0, 87.0), # 9 -- Sea Green\n",
    "            (128.0, 0.0, 0.0), # 10 -- Maroon\n",
    "            (0.0, 128.0, 128.0), # 11 -- Teal\n",
    "            (160.0, 82.0, 45.0), # 12 -- Sienna \n",
    "           )"
   ]
  },
  {
   "cell_type": "code",
   "execution_count": 127,
   "metadata": {
    "collapsed": false
   },
   "outputs": [
    {
     "name": "stdout",
     "output_type": "stream",
     "text": [
      "val = 0\n",
      "red1.20033008589\n",
      "green-0.20033008589\n",
      "blue-0.0\n",
      "val = 1\n",
      "red0.329507125195\n",
      "green0.998254893141\n",
      "blue-0.339918693812\n",
      "val = 2\n",
      "red0.78732584878\n",
      "green-0.410766255446\n",
      "blue0.646563777522\n",
      "val = 3\n",
      "red0.78732584878\n",
      "green1.07076625545\n",
      "blue-0.889918693812\n",
      "val = 4\n",
      "red0.329507125195\n",
      "green-0.338254893141\n",
      "blue1.04616216792\n",
      "val = 5\n",
      "red1.20033008589\n",
      "green0.86033008589\n",
      "blue-1.1\n"
     ]
    }
   ],
   "source": [
    "val=[0, 1, 2, 3, 4, 5]\n",
    "for label_val in val:\n",
    "    print 'val = ' + str(label_val)\n",
    "    print 'red' + str(_prism_data['red'](label_val))\n",
    "    print 'green' + str(_prism_data['green'](label_val))\n",
    "    print 'blue' + str(_prism_data['blue'](label_val))"
   ]
  },
  {
   "cell_type": "code",
   "execution_count": 120,
   "metadata": {
    "collapsed": false
   },
   "outputs": [
    {
     "name": "stdout",
     "output_type": "stream",
     "text": [
      "<function <lambda> at 0x7fc143224b90>\n"
     ]
    }
   ],
   "source": [
    "datad['prism']['blue']"
   ]
  },
  {
   "cell_type": "markdown",
   "metadata": {},
   "source": [
    "# Load Demo Data"
   ]
  },
  {
   "cell_type": "markdown",
   "metadata": {},
   "source": [
    "The three initial data sets included in this example consist of a cropped region of a packed bead column (porous medium) within which biofilm was grown as part of an experiment examining the affect of fluid flow rate (hydraulic loading) on biofilm growth and development."
   ]
  },
  {
   "cell_type": "code",
   "execution_count": 3,
   "metadata": {
    "collapsed": false
   },
   "outputs": [],
   "source": [
    "# Segmented data file names\n",
    "fnames = ['../data/mCT/demoThresh_Beads1.tif', '../data/mCT/demoThresh_Biofilm1.tif', '../data/mCT/demoThresh_Barium1.tif', '../data/mCT/LabelField.tif']\n",
    "\n",
    "for index, val in enumerate(['beads', 'biofilm', 'barium', 'label_field']):\n",
    "    #globals()[val] = pims.TiffStack(fnames[index])\n",
    "    globals()[val] = tiff_io.read_tiff(fnames[index])\n",
    "    "
   ]
  },
  {
   "cell_type": "code",
   "execution_count": 4,
   "metadata": {
    "collapsed": false
   },
   "outputs": [
    {
     "name": "stdout",
     "output_type": "stream",
     "text": [
      "255\n",
      "85\n",
      "[ 85 170 255]\n"
     ]
    },
    {
     "data": {
      "text/plain": [
       "(100, 425, 425)"
      ]
     },
     "execution_count": 4,
     "metadata": {},
     "output_type": "execute_result"
    }
   ],
   "source": [
    "print np.amax(label_field)\n",
    "print np.amin(label_field)\n",
    "print np.unique(label_field)\n",
    "label_field.shape"
   ]
  },
  {
   "cell_type": "code",
   "execution_count": 5,
   "metadata": {
    "collapsed": false
   },
   "outputs": [
    {
     "data": {
      "text/plain": [
       "<matplotlib.image.AxesImage at 0x7fc1445e2790>"
      ]
     },
     "execution_count": 5,
     "metadata": {},
     "output_type": "execute_result"
    },
    {
     "data": {
      "image/png": "[encoded data removed]",
      "text/plain": [
       "<matplotlib.figure.Figure at 0x7fc19d4e6410>"
      ]
     },
     "metadata": {},
     "output_type": "display_data"
    }
   ],
   "source": [
    "plt.imshow(label_field[50,:,:])"
   ]
  },
  {
   "cell_type": "code",
   "execution_count": 115,
   "metadata": {
    "collapsed": false
   },
   "outputs": [
    {
     "name": "stdout",
     "output_type": "stream",
     "text": [
      "1\n",
      "0\n"
     ]
    },
    {
     "data": {
      "image/png": "[encoded data removed]",
      "text/plain": [
       "<matplotlib.figure.Figure at 0x7fc1443954d0>"
      ]
     },
     "metadata": {},
     "output_type": "display_data"
    }
   ],
   "source": [
    "beads[100]\n",
    "#label_field[50]\n",
    "plt.imshow(beads[50,:,:])\n",
    "print np.amax(beads)\n",
    "print np.amin(beads)"
   ]
  },
  {
   "cell_type": "code",
   "execution_count": 72,
   "metadata": {
    "collapsed": false
   },
   "outputs": [],
   "source": [
    "# Convert label field to VTK object\n",
    "dataImporter = vtk_tools.np_to_vtk(label_field)\n",
    "#dataImporter = vtk_tools.np_to_vtk(label_field)"
   ]
  },
  {
   "cell_type": "code",
   "execution_count": 75,
   "metadata": {
    "collapsed": false
   },
   "outputs": [
    {
     "name": "stdout",
     "output_type": "stream",
     "text": [
      "vtkImageData (0x2164fd0)\n",
      "  Debug: Off\n",
      "  Modified Time: 224787\n",
      "  Reference Count: 2\n",
      "  Registered Events: (none)\n",
      "  Information: 0x3cb1670\n",
      "  Data Released: False\n",
      "  Global Release Data: Off\n",
      "  UpdateTime: 0\n",
      "  Field Data:\n",
      "    Debug: Off\n",
      "    Modified Time: 224784\n",
      "    Reference Count: 1\n",
      "    Registered Events: (none)\n",
      "    Number Of Arrays: 0\n",
      "    Number Of Components: 0\n",
      "    Number Of Tuples: 0\n",
      "  Number Of Points: 0\n",
      "  Number Of Cells: 0\n",
      "  Cell Data:\n",
      "    Debug: Off\n",
      "    Modified Time: 224787\n",
      "    Reference Count: 1\n",
      "    Registered Events: (none)\n",
      "    Number Of Arrays: 0\n",
      "    Number Of Components: 0\n",
      "    Number Of Tuples: 0\n",
      "    Copy Tuple Flags: ( 1 1 1 1 1 0 1 1 )\n",
      "    Interpolate Flags: ( 1 1 1 1 1 0 0 1 )\n",
      "    Pass Through Flags: ( 1 1 1 1 1 1 1 1 )\n",
      "    Scalars: (none)\n",
      "    Vectors: (none)\n",
      "    Normals: (none)\n",
      "    TCoords: (none)\n",
      "    Tensors: (none)\n",
      "    GlobalIds: (none)\n",
      "    PedigreeIds: (none)\n",
      "    EdgeFlag: (none)\n",
      "  Point Data:\n",
      "    Debug: Off\n",
      "    Modified Time: 224786\n",
      "    Reference Count: 1\n",
      "    Registered Events: (none)\n",
      "    Number Of Arrays: 0\n",
      "    Number Of Components: 0\n",
      "    Number Of Tuples: 0\n",
      "    Copy Tuple Flags: ( 1 1 1 1 1 0 1 1 )\n",
      "    Interpolate Flags: ( 1 1 1 1 1 0 0 1 )\n",
      "    Pass Through Flags: ( 1 1 1 1 1 1 1 1 )\n",
      "    Scalars: (none)\n",
      "    Vectors: (none)\n",
      "    Normals: (none)\n",
      "    TCoords: (none)\n",
      "    Tensors: (none)\n",
      "    GlobalIds: (none)\n",
      "    PedigreeIds: (none)\n",
      "    EdgeFlag: (none)\n",
      "  Bounds: \n",
      "    Xmin,Xmax: (1, -1)\n",
      "    Ymin,Ymax: (1, -1)\n",
      "    Zmin,Zmax: (1, -1)\n",
      "  Compute Time: 224805\n",
      "  Spacing: (1, 1, 1)\n",
      "  Origin: (0, 0, 0)\n",
      "  Dimensions: (0, 0, 0)\n",
      "  Increments: (0, 0, 0)\n",
      "  Extent: (0, -1, 0, -1, 0, -1)\n",
      "\n",
      "\n",
      "vtkInformation (0x3927140)\n",
      "  Debug: Off\n",
      "  Modified Time: 224726\n",
      "  Reference Count: 2\n",
      "  Registered Events: (none)\n",
      "  INPUT_ARRAYS_TO_PROCESS: vtkInformationVector(0x3d0f640)\n",
      "\n",
      "\n"
     ]
    }
   ],
   "source": [
    "print dataImporter.GetOutput()\n",
    "print dataImporter.GetInformation()"
   ]
  },
  {
   "cell_type": "code",
   "execution_count": 97,
   "metadata": {
    "collapsed": false
   },
   "outputs": [
    {
     "data": {
      "text/plain": [
       "0"
      ]
     },
     "execution_count": 97,
     "metadata": {},
     "output_type": "execute_result"
    }
   ],
   "source": [
    "vol = vtk.vtkImageData()\n",
    "vol.SetDimensions(beads.shape[0], beads.shape[1], beads.shape[2])\n",
    "vol.SetOrigin(0,0,0)\n",
    "vol.SetSpacing(1,1,1)\n",
    "\n",
    "vtk_data = vtk.util.numpy_support.numpy_to_vtk(beads.ravel(), deep=True)\n",
    "\n",
    "vol.GetPointData().SetScalars(vtk_data)"
   ]
  },
  {
   "cell_type": "code",
   "execution_count": 98,
   "metadata": {
    "collapsed": false
   },
   "outputs": [
    {
     "name": "stdout",
     "output_type": "stream",
     "text": [
      "vtkInformation (0x57a7cc0)\n",
      "  Debug: Off\n",
      "  Modified Time: 224958\n",
      "  Reference Count: 2\n",
      "  Registered Events: (none)\n",
      "\n",
      "\n",
      "unsigned char\n",
      "0.0\n",
      "255\n",
      "32\n",
      "2147483647\n",
      "1\n",
      "(0, 1)\n",
      "1\n"
     ]
    }
   ],
   "source": [
    "print vtk_data.GetInformation()\n",
    "print vtk_data.GetDataTypeAsString()\n",
    "print vtk_data.GetDataTypeMin()\n",
    "print vtk_data.GetDataTypeValueMax()\n",
    "print vtk_data.GetMaxDiscreteValues()\n",
    "print vtk_data.GetNumberOfComponentsMaxValue()\n",
    "print vtk_data.GetNumberOfComponentsMinValue()\n",
    "print vtk_data.GetValueRange()\n",
    "print vtk_data.GetValue(1000)"
   ]
  },
  {
   "cell_type": "code",
   "execution_count": 99,
   "metadata": {
    "collapsed": false
   },
   "outputs": [
    {
     "name": "stdout",
     "output_type": "stream",
     "text": [
      "vtkCellData (0xd76420)\n",
      "  Debug: Off\n",
      "  Modified Time: 224927\n",
      "  Reference Count: 2\n",
      "  Registered Events: (none)\n",
      "  Number Of Arrays: 0\n",
      "  Number Of Components: 0\n",
      "  Number Of Tuples: 0\n",
      "  Copy Tuple Flags: ( 1 1 1 1 1 0 1 1 )\n",
      "  Interpolate Flags: ( 1 1 1 1 1 0 0 1 )\n",
      "  Pass Through Flags: ( 1 1 1 1 1 1 1 1 )\n",
      "  Scalars: (none)\n",
      "  Vectors: (none)\n",
      "  Normals: (none)\n",
      "  TCoords: (none)\n",
      "  Tensors: (none)\n",
      "  GlobalIds: (none)\n",
      "  PedigreeIds: (none)\n",
      "  EdgeFlag: (none)\n",
      "\n",
      "\n"
     ]
    }
   ],
   "source": [
    "print vol.GetCellData()"
   ]
  },
  {
   "cell_type": "code",
   "execution_count": 100,
   "metadata": {
    "collapsed": false
   },
   "outputs": [
    {
     "data": {
      "text/plain": [
       "3"
      ]
     },
     "execution_count": 100,
     "metadata": {},
     "output_type": "execute_result"
    }
   ],
   "source": [
    "vol.GetDataDimension()"
   ]
  },
  {
   "cell_type": "code",
   "execution_count": 101,
   "metadata": {
    "collapsed": false
   },
   "outputs": [
    {
     "name": "stdout",
     "output_type": "stream",
     "text": [
      "255\n",
      "0\n"
     ]
    }
   ],
   "source": [
    "print vtk_data.GetDataTypeValueMax()\n",
    "print vtk_data.GetDataTypeValueMin()"
   ]
  },
  {
   "cell_type": "code",
   "execution_count": 103,
   "metadata": {
    "collapsed": false
   },
   "outputs": [
    {
     "data": {
      "text/plain": [
       "1"
      ]
     },
     "execution_count": 103,
     "metadata": {},
     "output_type": "execute_result"
    }
   ],
   "source": [
    "opacity_xfer_func = vtk.vtkPiecewiseFunction()\n",
    "opacity_xfer_func.AddPoint(0, 0.2)\n",
    "opacity_xfer_func.AddPoint(1, 0.5)"
   ]
  },
  {
   "cell_type": "code",
   "execution_count": 104,
   "metadata": {
    "collapsed": false
   },
   "outputs": [
    {
     "data": {
      "text/plain": [
       "1"
      ]
     },
     "execution_count": 104,
     "metadata": {},
     "output_type": "execute_result"
    }
   ],
   "source": [
    "color_xfer_func = vtk.vtkColorTransferFunction()\n",
    "color_xfer_func.AddRGBPoint(0.0, 0.0, 0.0, 0.0)\n",
    "color_xfer_func.AddRGBPoint(1.0, 0.0, 1, 0.0)"
   ]
  },
  {
   "cell_type": "code",
   "execution_count": 105,
   "metadata": {
    "collapsed": false
   },
   "outputs": [],
   "source": [
    "volumeProperty = vtk.vtkVolumeProperty()\n",
    "volumeProperty.SetColor(color_xfer_func)\n",
    "volumeProperty.SetScalarOpacity(opacity_xfer_func)"
   ]
  },
  {
   "cell_type": "code",
   "execution_count": 106,
   "metadata": {
    "collapsed": false
   },
   "outputs": [],
   "source": [
    "compositFunc = vtk.vtkVolumeRayCastCompositeFunction()\n",
    "volumeMapper = vtk.vtkVolumeRayCastMapper()\n",
    "volumeMapper.SetVolumeRayCastFunction(compositFunc)\n",
    "volumeMapper.SetInputData(vol)"
   ]
  },
  {
   "cell_type": "code",
   "execution_count": 107,
   "metadata": {
    "collapsed": true
   },
   "outputs": [],
   "source": [
    "actorVolume = vtk.vtkVolume()\n",
    "actorVolume.SetMapper(volumeMapper)\n",
    "actorVolume.SetProperty(volumeProperty)"
   ]
  },
  {
   "cell_type": "code",
   "execution_count": 108,
   "metadata": {
    "collapsed": true
   },
   "outputs": [],
   "source": [
    "def createDummyRenderer():\n",
    "    renderer = vtk.vtkRenderer()\n",
    "    renderer.SetBackground(0.5,0.5,0.5)\n",
    "    \n",
    "    camera = renderer.MakeCamera()\n",
    "    camera.SetPosition(-256,-256,512)\n",
    "    camera.SetFocalPoint(0.0, 0.0, 255.0)\n",
    "    camera.SetViewAngle(30.0)\n",
    "    camera.SetViewUp(0.46, -0.80, -0.38)\n",
    "    \n",
    "    renderer.SetActiveCamera(camera)\n",
    "    \n",
    "    return renderer\n"
   ]
  },
  {
   "cell_type": "code",
   "execution_count": 109,
   "metadata": {
    "collapsed": true
   },
   "outputs": [],
   "source": [
    "renderWindow_tst = vtk.vtkRenderWindow()"
   ]
  },
  {
   "cell_type": "code",
   "execution_count": 110,
   "metadata": {
    "collapsed": false
   },
   "outputs": [],
   "source": [
    "renderer = createDummyRenderer()\n",
    "renderer.AddActor(actorVolume)"
   ]
  },
  {
   "cell_type": "code",
   "execution_count": 111,
   "metadata": {
    "collapsed": false
   },
   "outputs": [],
   "source": [
    "vtk_tools.vtk_viewer(vol, volumeProperty, 800,800)"
   ]
  },
  {
   "cell_type": "code",
   "execution_count": 7,
   "metadata": {
    "collapsed": false
   },
   "outputs": [
    {
     "data": {
      "text/plain": [
       "(0, 426, 0, 426, 0, 101)"
      ]
     },
     "execution_count": 7,
     "metadata": {},
     "output_type": "execute_result"
    }
   ],
   "source": [
    "dataImporter.GetDataExtent()"
   ]
  },
  {
   "cell_type": "code",
   "execution_count": 8,
   "metadata": {
    "collapsed": false
   },
   "outputs": [
    {
     "data": {
      "text/plain": [
       "3"
      ]
     },
     "execution_count": 8,
     "metadata": {},
     "output_type": "execute_result"
    }
   ],
   "source": [
    "dataImporter.GetDataScalarType()"
   ]
  },
  {
   "cell_type": "code",
   "execution_count": 9,
   "metadata": {
    "collapsed": false
   },
   "outputs": [
    {
     "data": {
      "text/plain": [
       "1"
      ]
     },
     "execution_count": 9,
     "metadata": {},
     "output_type": "execute_result"
    }
   ],
   "source": [
    "dataImporter.GetNumberOfScalarComponents()"
   ]
  },
  {
   "cell_type": "code",
   "execution_count": 10,
   "metadata": {
    "collapsed": false
   },
   "outputs": [
    {
     "data": {
      "text/plain": [
       "(101, 426, 426)"
      ]
     },
     "execution_count": 10,
     "metadata": {},
     "output_type": "execute_result"
    }
   ],
   "source": [
    "beads.shape"
   ]
  },
  {
   "cell_type": "code",
   "execution_count": 11,
   "metadata": {
    "collapsed": false
   },
   "outputs": [],
   "source": [
    "dataImporter.SetDataExtent(dataImporter.GetDataExtent())"
   ]
  },
  {
   "cell_type": "code",
   "execution_count": 12,
   "metadata": {
    "collapsed": true
   },
   "outputs": [],
   "source": [
    "dataImporter.SetWholeExtent(dataImporter.GetWholeExtent())"
   ]
  },
  {
   "cell_type": "code",
   "execution_count": 13,
   "metadata": {
    "collapsed": false
   },
   "outputs": [
    {
     "data": {
      "text/plain": [
       "1"
      ]
     },
     "execution_count": 13,
     "metadata": {},
     "output_type": "execute_result"
    }
   ],
   "source": [
    "alphaChannelFunc = vtk.vtkPiecewiseFunction()\n",
    "alphaChannelFunc.AddPoint(0, 0.0)\n",
    "alphaChannelFunc.AddPoint(1, 0.2)"
   ]
  },
  {
   "cell_type": "code",
   "execution_count": 14,
   "metadata": {
    "collapsed": false
   },
   "outputs": [
    {
     "data": {
      "text/plain": [
       "0"
      ]
     },
     "execution_count": 14,
     "metadata": {},
     "output_type": "execute_result"
    }
   ],
   "source": [
    "# This class stores color data and can create color tables from a few color points. For this demo, we want the three cubes\n",
    "# to be of the colors red green and blue.\n",
    "colorFunc = vtk.vtkColorTransferFunction()\n",
    "colorFunc.AddRGBPoint(1, 1.0, 0.0, 0.0)\n"
   ]
  },
  {
   "cell_type": "code",
   "execution_count": 15,
   "metadata": {
    "collapsed": true
   },
   "outputs": [],
   "source": [
    "volumeProperty = vtk.vtkVolumeProperty()\n",
    "volumeProperty.SetColor(colorFunc)\n",
    "volumeProperty.SetScalarOpacity(alphaChannelFunc)\n"
   ]
  },
  {
   "cell_type": "code",
   "execution_count": 13,
   "metadata": {
    "collapsed": false
   },
   "outputs": [],
   "source": [
    "volumeProperty = vtk_tools.vtk_vis_props(dataImporter, label_field, [0.05, 0.1, 0.2])"
   ]
  },
  {
   "cell_type": "code",
   "execution_count": 14,
   "metadata": {
    "collapsed": false
   },
   "outputs": [],
   "source": [
    "vtk_tools.vtk_viewer(dataImporter, volumeProperty, width=425, height=425)"
   ]
  },
  {
   "cell_type": "code",
   "execution_count": 15,
   "metadata": {
    "collapsed": false
   },
   "outputs": [
    {
     "ename": "NameError",
     "evalue": "global name 'vtkRenderWindow' is not defined",
     "output_type": "error",
     "traceback": [
      "\u001b[1;31m---------------------------------------------------------------------------\u001b[0m",
      "\u001b[1;31mNameError\u001b[0m                                 Traceback (most recent call last)",
      "\u001b[1;32m<ipython-input-15-461895adcf02>\u001b[0m in \u001b[0;36m<module>\u001b[1;34m()\u001b[0m\n\u001b[1;32m----> 1\u001b[1;33m \u001b[0mvtk_tools\u001b[0m\u001b[1;33m.\u001b[0m\u001b[0mipython_vtk_viewer\u001b[0m\u001b[1;33m(\u001b[0m\u001b[0mvolumeProperty\u001b[0m\u001b[1;33m)\u001b[0m\u001b[1;33m\u001b[0m\u001b[0m\n\u001b[0m",
      "\u001b[1;32m/home/giltis/dev/my_src/scikit-xray/skxray/io/vtk_tools.pyc\u001b[0m in \u001b[0;36mipython_vtk_viewer\u001b[1;34m(renderer, width, height)\u001b[0m\n\u001b[0;32m    205\u001b[0m \u001b[1;33m\u001b[0m\u001b[0m\n\u001b[0;32m    206\u001b[0m     \u001b[1;31m#Create new rendering window\u001b[0m\u001b[1;33m\u001b[0m\u001b[1;33m\u001b[0m\u001b[0m\n\u001b[1;32m--> 207\u001b[1;33m     \u001b[0mrenderWindow\u001b[0m \u001b[1;33m=\u001b[0m \u001b[0mvtkRenderWindow\u001b[0m\u001b[1;33m(\u001b[0m\u001b[1;33m)\u001b[0m\u001b[1;33m\u001b[0m\u001b[0m\n\u001b[0m\u001b[0;32m    208\u001b[0m     \u001b[1;31m#Enable off-screen rendering\u001b[0m\u001b[1;33m\u001b[0m\u001b[1;33m\u001b[0m\u001b[0m\n\u001b[0;32m    209\u001b[0m     \u001b[0mrenderWindow\u001b[0m\u001b[1;33m.\u001b[0m\u001b[0mSetOffScreenRendering\u001b[0m\u001b[1;33m(\u001b[0m\u001b[1;36m1\u001b[0m\u001b[1;33m)\u001b[0m\u001b[1;33m\u001b[0m\u001b[0m\n",
      "\u001b[1;31mNameError\u001b[0m: global name 'vtkRenderWindow' is not defined"
     ]
    }
   ],
   "source": [
    "vtk_tools.ipython_vtk_viewer(volumeProperty)"
   ]
  },
  {
   "cell_type": "code",
   "execution_count": 18,
   "metadata": {
    "collapsed": false
   },
   "outputs": [],
   "source": [
    "dmc = vtk.vtkDiscreteMarchingCubes()\n",
    "dmc.SetInputConnection(dataImporter.GetOutputPort())\n",
    "dmc.GenerateValues(1,1,1)\n",
    "dmc.Update()"
   ]
  },
  {
   "cell_type": "code",
   "execution_count": 19,
   "metadata": {
    "collapsed": true
   },
   "outputs": [],
   "source": [
    "tmp = 5"
   ]
  },
  {
   "cell_type": "code",
   "execution_count": null,
   "metadata": {
    "collapsed": true
   },
   "outputs": [],
   "source": [
    "mapper = vtk.vtkPolyDataMapper()\n",
    "mapper.SetInputConnection(dmc.GetOutputPort())\n",
    "\n",
    "actor = vtk.vtkActor()\n",
    "actor.SetMapper(mapper)\n",
    "renderer = vtk.vtkRenderer()\n",
    "renderer.AddActor(actor)\n",
    "renderer.SetBackground(0.5,0.5,0.5)\n",
    "renWin = vtk.vtkRenderWindow()\n",
    "renWin.AddRenderer(renderer)\n",
    "interactiveRender = vtk.vtkRenderWindowInteractor()\n",
    "interactiveRender.SetRenderWindow(renWin)\n",
    "\n",
    "camera = renderer.MakeCamera()\n",
    "camera.SetPosition(-500.0, 245.5, 122.0)\n",
    "camera.SetFocalPoint(301.0, 245.5, 122.0)\n",
    "camera.SetViewAngle(30.0)\n",
    "camera.SetRoll(-90.0)\n",
    "renderer.SetActiveCamera(camera)\n",
    "renWin.SetSize(600,600)\n",
    "\n",
    "interactiveRender.Initialize()\n",
    "renWin.Render()\n",
    "interactiveRender.Start()"
   ]
  },
  {
   "cell_type": "code",
   "execution_count": 16,
   "metadata": {
    "collapsed": false
   },
   "outputs": [
    {
     "ename": "AttributeError",
     "evalue": "mro",
     "output_type": "error",
     "traceback": [
      "\u001b[1;31m---------------------------------------------------------------------------\u001b[0m",
      "\u001b[1;31mAttributeError\u001b[0m                            Traceback (most recent call last)",
      "\u001b[1;32m/home/giltis/anaconda3/envs/nsls2_dev/lib/python2.7/site-packages/IPython/core/formatters.pyc\u001b[0m in \u001b[0;36m__call__\u001b[1;34m(self, obj)\u001b[0m\n\u001b[0;32m    889\u001b[0m             \u001b[1;31m# lookup registered printer\u001b[0m\u001b[1;33m\u001b[0m\u001b[1;33m\u001b[0m\u001b[0m\n\u001b[0;32m    890\u001b[0m             \u001b[1;32mtry\u001b[0m\u001b[1;33m:\u001b[0m\u001b[1;33m\u001b[0m\u001b[0m\n\u001b[1;32m--> 891\u001b[1;33m                 \u001b[0mprinter\u001b[0m \u001b[1;33m=\u001b[0m \u001b[0mself\u001b[0m\u001b[1;33m.\u001b[0m\u001b[0mlookup\u001b[0m\u001b[1;33m(\u001b[0m\u001b[0mobj\u001b[0m\u001b[1;33m)\u001b[0m\u001b[1;33m\u001b[0m\u001b[0m\n\u001b[0m\u001b[0;32m    892\u001b[0m             \u001b[1;32mexcept\u001b[0m \u001b[0mKeyError\u001b[0m\u001b[1;33m:\u001b[0m\u001b[1;33m\u001b[0m\u001b[0m\n\u001b[0;32m    893\u001b[0m                 \u001b[1;32mpass\u001b[0m\u001b[1;33m\u001b[0m\u001b[0m\n",
      "\u001b[1;32m/home/giltis/anaconda3/envs/nsls2_dev/lib/python2.7/site-packages/IPython/core/formatters.pyc\u001b[0m in \u001b[0;36mlookup\u001b[1;34m(self, obj)\u001b[0m\n\u001b[0;32m    382\u001b[0m             \u001b[1;32mreturn\u001b[0m \u001b[0mself\u001b[0m\u001b[1;33m.\u001b[0m\u001b[0msingleton_printers\u001b[0m\u001b[1;33m[\u001b[0m\u001b[0mobj_id\u001b[0m\u001b[1;33m]\u001b[0m\u001b[1;33m\u001b[0m\u001b[0m\n\u001b[0;32m    383\u001b[0m         \u001b[1;31m# then lookup by type\u001b[0m\u001b[1;33m\u001b[0m\u001b[1;33m\u001b[0m\u001b[0m\n\u001b[1;32m--> 384\u001b[1;33m         \u001b[1;32mreturn\u001b[0m \u001b[0mself\u001b[0m\u001b[1;33m.\u001b[0m\u001b[0mlookup_by_type\u001b[0m\u001b[1;33m(\u001b[0m\u001b[0m_get_type\u001b[0m\u001b[1;33m(\u001b[0m\u001b[0mobj\u001b[0m\u001b[1;33m)\u001b[0m\u001b[1;33m)\u001b[0m\u001b[1;33m\u001b[0m\u001b[0m\n\u001b[0m\u001b[0;32m    385\u001b[0m \u001b[1;33m\u001b[0m\u001b[0m\n\u001b[0;32m    386\u001b[0m     \u001b[1;32mdef\u001b[0m \u001b[0mlookup_by_type\u001b[0m\u001b[1;33m(\u001b[0m\u001b[0mself\u001b[0m\u001b[1;33m,\u001b[0m \u001b[0mtyp\u001b[0m\u001b[1;33m)\u001b[0m\u001b[1;33m:\u001b[0m\u001b[1;33m\u001b[0m\u001b[0m\n",
      "\u001b[1;32m/home/giltis/anaconda3/envs/nsls2_dev/lib/python2.7/site-packages/IPython/core/formatters.pyc\u001b[0m in \u001b[0;36mlookup_by_type\u001b[1;34m(self, typ)\u001b[0m\n\u001b[0;32m    412\u001b[0m         \u001b[1;32melse\u001b[0m\u001b[1;33m:\u001b[0m\u001b[1;33m\u001b[0m\u001b[0m\n\u001b[0;32m    413\u001b[0m             \u001b[1;32mfor\u001b[0m \u001b[0mcls\u001b[0m \u001b[1;32min\u001b[0m \u001b[0mpretty\u001b[0m\u001b[1;33m.\u001b[0m\u001b[0m_get_mro\u001b[0m\u001b[1;33m(\u001b[0m\u001b[0mtyp\u001b[0m\u001b[1;33m)\u001b[0m\u001b[1;33m:\u001b[0m\u001b[1;33m\u001b[0m\u001b[0m\n\u001b[1;32m--> 414\u001b[1;33m                 \u001b[1;32mif\u001b[0m \u001b[0mcls\u001b[0m \u001b[1;32min\u001b[0m \u001b[0mself\u001b[0m\u001b[1;33m.\u001b[0m\u001b[0mtype_printers\u001b[0m \u001b[1;32mor\u001b[0m \u001b[0mself\u001b[0m\u001b[1;33m.\u001b[0m\u001b[0m_in_deferred_types\u001b[0m\u001b[1;33m(\u001b[0m\u001b[0mcls\u001b[0m\u001b[1;33m)\u001b[0m\u001b[1;33m:\u001b[0m\u001b[1;33m\u001b[0m\u001b[0m\n\u001b[0m\u001b[0;32m    415\u001b[0m                     \u001b[1;32mreturn\u001b[0m \u001b[0mself\u001b[0m\u001b[1;33m.\u001b[0m\u001b[0mtype_printers\u001b[0m\u001b[1;33m[\u001b[0m\u001b[0mcls\u001b[0m\u001b[1;33m]\u001b[0m\u001b[1;33m\u001b[0m\u001b[0m\n\u001b[0;32m    416\u001b[0m \u001b[1;33m\u001b[0m\u001b[0m\n",
      "\u001b[1;31mAttributeError\u001b[0m: mro"
     ]
    },
    {
     "data": {
      "text/plain": [
       "(vtkAlgorithmOutput)0x7fcaa6425788"
      ]
     },
     "execution_count": 16,
     "metadata": {},
     "output_type": "execute_result"
    }
   ],
   "source": [
    "dataImporter.GetOutputPort()"
   ]
  },
  {
   "cell_type": "code",
   "execution_count": null,
   "metadata": {
    "collapsed": true
   },
   "outputs": [],
   "source": []
  }
 ],
 "metadata": {
  "kernelspec": {
   "display_name": "Python 2",
   "language": "python",
   "name": "python2"
  },
  "language_info": {
   "codemirror_mode": {
    "name": "ipython",
    "version": 2
   },
   "file_extension": ".py",
   "mimetype": "text/x-python",
   "name": "python",
   "nbconvert_exporter": "python",
   "pygments_lexer": "ipython2",
   "version": "2.7.10"
  }
 },
 "nbformat": 4,
 "nbformat_minor": 0
}
