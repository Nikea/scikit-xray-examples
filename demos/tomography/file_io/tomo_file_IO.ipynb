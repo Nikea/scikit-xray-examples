{
 "cells": [
  {
   "cell_type": "markdown",
   "metadata": {},
   "source": [
    "# File I/O Examples"
   ]
  },
  {
   "cell_type": "markdown",
   "metadata": {},
   "source": [
    "## Volumetric image data"
   ]
  },
  {
   "cell_type": "markdown",
   "metadata": {},
   "source": [
    "### Key areas of application"
   ]
  },
  {
   "cell_type": "markdown",
   "metadata": {},
   "source": [
    "1. X-ray tomorgraphy (micro, nano, fluorescence, etc.) "
   ]
  },
  {
   "cell_type": "markdown",
   "metadata": {},
   "source": [
    "### Typical/traditional file types"
   ]
  },
  {
   "cell_type": "markdown",
   "metadata": {},
   "source": [
    "1. Camera files/\"raw\" data\n",
    "    - .SPE -- A type of direct output from acquisition cameras\n",
    "    - .tif/.tiff -- Raw data exported, save, or converted to TIFF for storage before analysis\n",
    "    \n",
    "2. Reconstructed data\n",
    "    1. Single/Consolidated (read volumetric) data\n",
    "        - .netCDF\n",
    "        - .h5/.hdf5\n",
    "        - .tif/tiff\n",
    "        - .am -- AmiraMesh files (e.g. from Avizo)\n",
    "    2. Stacks or series of individual images/slices\n",
    "        - .bmp\n",
    "        - .jpg\n",
    "        - .tif/.tiff"
   ]
  },
  {
   "cell_type": "markdown",
   "metadata": {},
   "source": [
    "## Camera file I/O"
   ]
  },
  {
   "cell_type": "markdown",
   "metadata": {},
   "source": [
    "### Key packages and tools"
   ]
  },
  {
   "cell_type": "code",
   "execution_count": null,
   "metadata": {
    "collapsed": true
   },
   "outputs": [],
   "source": []
  }
 ],
 "metadata": {
  "kernelspec": {
   "display_name": "Python 2",
   "language": "python",
   "name": "python2"
  },
  "language_info": {
   "codemirror_mode": {
    "name": "ipython",
    "version": 2
   },
   "file_extension": ".py",
   "mimetype": "text/x-python",
   "name": "python",
   "nbconvert_exporter": "python",
   "pygments_lexer": "ipython2",
   "version": "2.7.10"
  }
 },
 "nbformat": 4,
 "nbformat_minor": 0
}
