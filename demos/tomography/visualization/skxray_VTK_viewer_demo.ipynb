{
 "metadata": {
  "name": "",
  "signature": "sha256:cfc74583554fb9a8f95c837d9fe0b0ae920fb502f89e566b0ab2204c00a88a9a"
 },
 "nbformat": 3,
 "nbformat_minor": 0,
 "worksheets": [
  {
   "cells": [
    {
     "cell_type": "code",
     "collapsed": false,
     "input": [
      "import vtk\n",
      "import numpy as np\n",
      "from skxray.io import vtk_tools\n",
      "from vttools.to_wrap.image_proc import arithmetic, arithmetic_expression"
     ],
     "language": "python",
     "metadata": {},
     "outputs": [],
     "prompt_number": 1
    },
    {
     "cell_type": "code",
     "collapsed": false,
     "input": [
      "data_matrix1 = np.zeros([75, 75, 75], dtype='uint8')\n",
      "data_matrix1[0:35, 0:35, 0:35] = 50\n",
      "\n",
      "data_matrix2 = np.zeros([75, 75, 75], dtype='uint8')\n",
      "data_matrix2[25:55, 25:55, 25:55] = 100\n",
      "\n",
      "data_matrix3 = np.zeros([75, 75, 75], dtype='uint8')\n",
      "data_matrix3[45:74, 45:74, 45:74] = 150"
     ],
     "language": "python",
     "metadata": {},
     "outputs": [],
     "prompt_number": 2
    },
    {
     "cell_type": "code",
     "collapsed": false,
     "input": [
      "#Arithmetic example #1\n",
      "merge_demo1 = arithmetic('addition', data_matrix1, data_matrix2)\n",
      "\n",
      "merge_demo1 = arithmetic('addition', merge_demo1, data_matrix3)"
     ],
     "language": "python",
     "metadata": {},
     "outputs": [],
     "prompt_number": 3
    },
    {
     "cell_type": "code",
     "collapsed": false,
     "input": [
      "#Arithmetic example 2\n",
      "merge_demo2 = arithmetic_expression('A*B+C', data_matrix1, data_matrix2, data_matrix3)"
     ],
     "language": "python",
     "metadata": {},
     "outputs": [],
     "prompt_number": 10
    },
    {
     "cell_type": "code",
     "collapsed": false,
     "input": [
      "# Data Conversion from numpy to VTK object\n",
      "\n",
      "vtkDemo_cube1 = vtk_tools.np_to_vtk(data_matrix2)\n",
      "\n",
      "vtkDemo_merge1 = vtk_tools.np_to_vtk(merge_demo1)\n",
      "\n",
      "vtkDemo_merge2 = vtk_tools.np_to_vtk(merge_demo2)"
     ],
     "language": "python",
     "metadata": {},
     "outputs": [],
     "prompt_number": 11
    },
    {
     "cell_type": "code",
     "collapsed": false,
     "input": [
      "volumeProperty = vtk_tools.vtk_vis_props(vtkDemo_cube1)\n",
      "vtk_tools.vtk_viewer(vtkDemo_cube1, volumeProperty)"
     ],
     "language": "python",
     "metadata": {},
     "outputs": [],
     "prompt_number": 8
    },
    {
     "cell_type": "code",
     "collapsed": false,
     "input": [
      "volumeProperty = vtk_tools.vtk_vis_props(vtkDemo_merge1)\n",
      "vtk_tools.vtk_viewer(vtkDemo_merge1, volumeProperty)"
     ],
     "language": "python",
     "metadata": {},
     "outputs": [],
     "prompt_number": 9
    },
    {
     "cell_type": "code",
     "collapsed": false,
     "input": [
      "volumeProperty = vtk_tools.vtk_vis_props(vtkDemo_merge2)\n",
      "vtk_tools.vtk_viewer(vtkDemo_merge2, volumeProperty)"
     ],
     "language": "python",
     "metadata": {},
     "outputs": [],
     "prompt_number": 12
    },
    {
     "cell_type": "code",
     "collapsed": false,
     "input": [],
     "language": "python",
     "metadata": {},
     "outputs": []
    }
   ],
   "metadata": {}
  }
 ]
}