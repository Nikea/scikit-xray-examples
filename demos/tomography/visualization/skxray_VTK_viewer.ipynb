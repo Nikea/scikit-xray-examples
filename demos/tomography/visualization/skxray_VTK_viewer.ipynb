{
 "metadata": {
  "name": "",
  "signature": "sha256:9ca9afcc505f3d9ae8c743c9f4a23a6ef4abba89bfe3086a1eccd95d44afad96"
 },
 "nbformat": 3,
 "nbformat_minor": 0,
 "worksheets": [
  {
   "cells": [
    {
     "cell_type": "code",
     "collapsed": false,
     "input": [
      "import vtk\n",
      "import numpy as np\n",
      "from skxray.io import vtk_tools"
     ],
     "language": "python",
     "metadata": {},
     "outputs": [],
     "prompt_number": 1
    },
    {
     "cell_type": "code",
     "collapsed": false,
     "input": [
      "data_matrix = np.zeros([75, 75, 75], dtype='uint8')\n",
      "data_matrix[0:35, 0:35, 0:35] = 50\n",
      "data_matrix[25:55, 25:55, 25:55] = 100\n",
      "data_matrix[45:74, 45:74, 45:74] = 150"
     ],
     "language": "python",
     "metadata": {},
     "outputs": [],
     "prompt_number": 2
    },
    {
     "cell_type": "code",
     "collapsed": false,
     "input": [
      "data_matrix"
     ],
     "language": "python",
     "metadata": {},
     "outputs": [
      {
       "metadata": {},
       "output_type": "pyout",
       "prompt_number": 3,
       "text": [
        "array([[[ 50,  50,  50, ...,   0,   0,   0],\n",
        "        [ 50,  50,  50, ...,   0,   0,   0],\n",
        "        [ 50,  50,  50, ...,   0,   0,   0],\n",
        "        ..., \n",
        "        [  0,   0,   0, ...,   0,   0,   0],\n",
        "        [  0,   0,   0, ...,   0,   0,   0],\n",
        "        [  0,   0,   0, ...,   0,   0,   0]],\n",
        "\n",
        "       [[ 50,  50,  50, ...,   0,   0,   0],\n",
        "        [ 50,  50,  50, ...,   0,   0,   0],\n",
        "        [ 50,  50,  50, ...,   0,   0,   0],\n",
        "        ..., \n",
        "        [  0,   0,   0, ...,   0,   0,   0],\n",
        "        [  0,   0,   0, ...,   0,   0,   0],\n",
        "        [  0,   0,   0, ...,   0,   0,   0]],\n",
        "\n",
        "       [[ 50,  50,  50, ...,   0,   0,   0],\n",
        "        [ 50,  50,  50, ...,   0,   0,   0],\n",
        "        [ 50,  50,  50, ...,   0,   0,   0],\n",
        "        ..., \n",
        "        [  0,   0,   0, ...,   0,   0,   0],\n",
        "        [  0,   0,   0, ...,   0,   0,   0],\n",
        "        [  0,   0,   0, ...,   0,   0,   0]],\n",
        "\n",
        "       ..., \n",
        "       [[  0,   0,   0, ...,   0,   0,   0],\n",
        "        [  0,   0,   0, ...,   0,   0,   0],\n",
        "        [  0,   0,   0, ...,   0,   0,   0],\n",
        "        ..., \n",
        "        [  0,   0,   0, ..., 150, 150,   0],\n",
        "        [  0,   0,   0, ..., 150, 150,   0],\n",
        "        [  0,   0,   0, ...,   0,   0,   0]],\n",
        "\n",
        "       [[  0,   0,   0, ...,   0,   0,   0],\n",
        "        [  0,   0,   0, ...,   0,   0,   0],\n",
        "        [  0,   0,   0, ...,   0,   0,   0],\n",
        "        ..., \n",
        "        [  0,   0,   0, ..., 150, 150,   0],\n",
        "        [  0,   0,   0, ..., 150, 150,   0],\n",
        "        [  0,   0,   0, ...,   0,   0,   0]],\n",
        "\n",
        "       [[  0,   0,   0, ...,   0,   0,   0],\n",
        "        [  0,   0,   0, ...,   0,   0,   0],\n",
        "        [  0,   0,   0, ...,   0,   0,   0],\n",
        "        ..., \n",
        "        [  0,   0,   0, ...,   0,   0,   0],\n",
        "        [  0,   0,   0, ...,   0,   0,   0],\n",
        "        [  0,   0,   0, ...,   0,   0,   0]]], dtype=uint8)"
       ]
      }
     ],
     "prompt_number": 3
    },
    {
     "cell_type": "code",
     "collapsed": false,
     "input": [
      "# An example from scipy cookbook demonstrating the use of numpy arrys in vtk \n",
      "\n",
      "data_matrix\n",
      "\n",
      "dataImporter = vtk_tools.np_to_vtk(data_matrix)"
     ],
     "language": "python",
     "metadata": {},
     "outputs": [],
     "prompt_number": 28
    },
    {
     "cell_type": "code",
     "collapsed": false,
     "input": [
      "\n",
      "# The following two functions describe how the data is stored and the dimensions of the array it is stored in. For this\n",
      "# simple case, all axes are of length 75 and begins with the first element. For other data, this is probably not the case.\n",
      "# I have to admit however, that I honestly dont know the difference between SetDataExtent() and SetWholeExtent() although\n",
      "# VTK complains if not both are used.\n",
      "dataImporter.SetDataExtent(0, 74, 0, 74, 0, 74)\n",
      "dataImporter.SetWholeExtent(0, 74, 0, 74, 0, 74)\n",
      " \n",
      "# The following class is used to store transparencyv-values for later retrival. In our case, we want the value 0 to be\n",
      "# completly opaque whereas the three different cubes are given different transperancy-values to show how it works.\n",
      "alphaChannelFunc = vtk.vtkPiecewiseFunction()\n",
      "alphaChannelFunc.AddPoint(0, 0.0)\n",
      "alphaChannelFunc.AddPoint(50, 0.05)\n",
      "alphaChannelFunc.AddPoint(100, 0.1)\n",
      "alphaChannelFunc.AddPoint(150, 0.2)\n",
      " \n",
      "# This class stores color data and can create color tables from a few color points. For this demo, we want the three cubes\n",
      "# to be of the colors red green and blue.\n",
      "colorFunc = vtk.vtkColorTransferFunction()\n",
      "colorFunc.AddRGBPoint(50, 1.0, 0.0, 0.0)\n",
      "colorFunc.AddRGBPoint(100, 0.0, 1.0, 0.0)\n",
      "colorFunc.AddRGBPoint(150, 0.0, 0.0, 1.0)\n",
      " \n",
      "# The preavius two classes stored properties. Because we want to apply these properties to the volume we want to render,\n",
      "# we have to store them in a class that stores volume prpoperties.\n",
      "volumeProperty = vtk.vtkVolumeProperty()\n",
      "volumeProperty.SetColor(colorFunc)\n",
      "volumeProperty.SetScalarOpacity(alphaChannelFunc)\n"
     ],
     "language": "python",
     "metadata": {},
     "outputs": [],
     "prompt_number": 29
    },
    {
     "cell_type": "code",
     "collapsed": false,
     "input": [
      "vtk_tools.vtk_viewer(dataImporter, volumeProperty)"
     ],
     "language": "python",
     "metadata": {},
     "outputs": [],
     "prompt_number": 30
    },
    {
     "cell_type": "code",
     "collapsed": false,
     "input": [],
     "language": "python",
     "metadata": {},
     "outputs": []
    },
    {
     "cell_type": "code",
     "collapsed": false,
     "input": [],
     "language": "python",
     "metadata": {},
     "outputs": [],
     "prompt_number": 6
    },
    {
     "cell_type": "code",
     "collapsed": false,
     "input": [],
     "language": "python",
     "metadata": {},
     "outputs": []
    }
   ],
   "metadata": {}
  }
 ]
}