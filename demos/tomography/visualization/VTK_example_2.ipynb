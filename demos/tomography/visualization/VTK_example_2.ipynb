{
 "cells": [
  {
   "cell_type": "code",
   "execution_count": 1,
   "metadata": {
    "collapsed": false
   },
   "outputs": [],
   "source": [
    "#!/usr/bin/env python\n",
    "\n",
    "# This example demonstrates the use of the vtkTransformPolyDataFilter\n",
    "# to reposition a 3D text string.\n",
    "\n",
    "import vtk\n",
    "from vtk.util.colors import *\n"
   ]
  },
  {
   "cell_type": "code",
   "execution_count": 2,
   "metadata": {
    "collapsed": false
   },
   "outputs": [
    {
     "data": {
      "text/plain": [
       "0"
      ]
     },
     "execution_count": 2,
     "metadata": {},
     "output_type": "execute_result"
    }
   ],
   "source": [
    "\n",
    "# Define a Single Cube\n",
    "Scalars = vtk.vtkFloatArray()\n",
    "Scalars.InsertNextValue(1.0)\n",
    "Scalars.InsertNextValue(0.0)\n",
    "Scalars.InsertNextValue(0.0)\n",
    "Scalars.InsertNextValue(1.0)\n",
    "Scalars.InsertNextValue(0.0)\n",
    "Scalars.InsertNextValue(0.0)\n",
    "Scalars.InsertNextValue(0.0)\n",
    "Scalars.InsertNextValue(0.0)\n",
    "\n",
    "Points = vtk.vtkPoints()\n",
    "Points.InsertNextPoint(0, 0, 0)\n",
    "Points.InsertNextPoint(1, 0, 0)\n",
    "Points.InsertNextPoint(1, 1, 0)\n",
    "Points.InsertNextPoint(0, 1, 0)\n",
    "Points.InsertNextPoint(0, 0, 1)\n",
    "Points.InsertNextPoint(1, 0, 1)\n",
    "Points.InsertNextPoint(1, 1, 1)\n",
    "Points.InsertNextPoint(0, 1, 1)\n",
    "\n",
    "Ids = vtk.vtkIdList()\n",
    "Ids.InsertNextId(0)\n",
    "Ids.InsertNextId(1)\n",
    "Ids.InsertNextId(2)\n",
    "Ids.InsertNextId(3)\n",
    "Ids.InsertNextId(4)\n",
    "Ids.InsertNextId(5)\n",
    "Ids.InsertNextId(6)\n",
    "Ids.InsertNextId(7)\n",
    "\n",
    "Grid = vtk.vtkUnstructuredGrid()\n",
    "Grid.Allocate(10, 10)\n",
    "Grid.InsertNextCell(12, Ids)\n",
    "Grid.SetPoints(Points)\n",
    "Grid.GetPointData().SetScalars(Scalars)\n"
   ]
  },
  {
   "cell_type": "code",
   "execution_count": 3,
   "metadata": {
    "collapsed": false
   },
   "outputs": [],
   "source": [
    "\n",
    "# Find the triangles that lie along the 0.5 contour in this cube.\n",
    "Marching = vtk.vtkContourFilter()\n",
    "Marching.SetInput(Grid)\n",
    "Marching.SetValue(0, 0.5)\n",
    "Marching.Update()\n"
   ]
  },
  {
   "cell_type": "code",
   "execution_count": 4,
   "metadata": {
    "collapsed": false
   },
   "outputs": [],
   "source": [
    "# Extract the edges of the triangles just found.\n",
    "triangleEdges = vtk.vtkExtractEdges()\n",
    "triangleEdges.SetInputConnection(Marching.GetOutputPort())\n"
   ]
  },
  {
   "cell_type": "code",
   "execution_count": 5,
   "metadata": {
    "collapsed": false
   },
   "outputs": [],
   "source": [
    "# Draw the edges as tubes instead of lines.  Also create the associated\n",
    "# mapper and actor to display the tubes.\n",
    "triangleEdgeTubes = vtk.vtkTubeFilter()\n",
    "triangleEdgeTubes.SetInputConnection(triangleEdges.GetOutputPort())\n",
    "triangleEdgeTubes.SetRadius(.005)\n",
    "triangleEdgeTubes.SetNumberOfSides(6)\n",
    "triangleEdgeTubes.UseDefaultNormalOn()\n",
    "triangleEdgeTubes.SetDefaultNormal(.577, .577, .577)\n",
    "triangleEdgeMapper = vtk.vtkPolyDataMapper()\n",
    "triangleEdgeMapper.SetInputConnection(triangleEdgeTubes.GetOutputPort())\n",
    "triangleEdgeMapper.ScalarVisibilityOff()\n",
    "triangleEdgeActor = vtk.vtkActor()\n",
    "triangleEdgeActor.SetMapper(triangleEdgeMapper)\n",
    "triangleEdgeActor.GetProperty().SetDiffuseColor(lamp_black)\n",
    "triangleEdgeActor.GetProperty().SetSpecular(.4)\n",
    "triangleEdgeActor.GetProperty().SetSpecularPower(10)\n"
   ]
  },
  {
   "cell_type": "code",
   "execution_count": 6,
   "metadata": {
    "collapsed": true
   },
   "outputs": [],
   "source": [
    "# Shrink the triangles we found earlier.  Create the associated mapper\n",
    "# and actor.  Set the opacity of the shrunken triangles.\n",
    "aShrinker = vtk.vtkShrinkPolyData()\n",
    "aShrinker.SetShrinkFactor(1)\n",
    "aShrinker.SetInputConnection(Marching.GetOutputPort())\n",
    "aMapper = vtk.vtkPolyDataMapper()\n",
    "aMapper.ScalarVisibilityOff()\n",
    "aMapper.SetInputConnection(aShrinker.GetOutputPort())\n",
    "Triangles = vtk.vtkActor()\n",
    "Triangles.SetMapper(aMapper)\n",
    "Triangles.GetProperty().SetDiffuseColor(banana)\n",
    "Triangles.GetProperty().SetOpacity(.6)\n"
   ]
  },
  {
   "cell_type": "code",
   "execution_count": 7,
   "metadata": {
    "collapsed": true
   },
   "outputs": [],
   "source": [
    "# Draw a cube the same size and at the same position as the one\n",
    "# created previously.  Extract the edges because we only want to see\n",
    "# the outline of the cube.  Pass the edges through a vtkTubeFilter so\n",
    "# they are displayed as tubes rather than lines.\n",
    "CubeModel = vtk.vtkCubeSource()\n",
    "CubeModel.SetCenter(.5, .5, .5)\n",
    "Edges = vtk.vtkExtractEdges()\n",
    "Edges.SetInputConnection(CubeModel.GetOutputPort())\n",
    "Tubes = vtk.vtkTubeFilter()\n",
    "Tubes.SetInputConnection(Edges.GetOutputPort())\n",
    "Tubes.SetRadius(.01)\n",
    "Tubes.SetNumberOfSides(6)\n",
    "Tubes.UseDefaultNormalOn()\n",
    "Tubes.SetDefaultNormal(.577, .577, .577)\n"
   ]
  },
  {
   "cell_type": "code",
   "execution_count": 8,
   "metadata": {
    "collapsed": true
   },
   "outputs": [],
   "source": [
    "# Create the mapper and actor to display the cube edges.\n",
    "TubeMapper = vtk.vtkPolyDataMapper()\n",
    "TubeMapper.SetInputConnection(Tubes.GetOutputPort())\n",
    "CubeEdges = vtk.vtkActor()\n",
    "CubeEdges.SetMapper(TubeMapper)\n",
    "CubeEdges.GetProperty().SetDiffuseColor(khaki)\n",
    "CubeEdges.GetProperty().SetSpecular(.4)\n",
    "CubeEdges.GetProperty().SetSpecularPower(10)\n"
   ]
  },
  {
   "cell_type": "code",
   "execution_count": 9,
   "metadata": {
    "collapsed": true
   },
   "outputs": [],
   "source": [
    "# Create a sphere to use as a glyph source for vtkGlyph3D.\n",
    "Sphere = vtk.vtkSphereSource()\n",
    "Sphere.SetRadius(0.04)\n",
    "Sphere.SetPhiResolution(20)\n",
    "Sphere.SetThetaResolution(20)\n"
   ]
  },
  {
   "cell_type": "code",
   "execution_count": 10,
   "metadata": {
    "collapsed": false
   },
   "outputs": [],
   "source": [
    "# Remove the part of the cube with data values below 0.5.\n",
    "ThresholdIn = vtk.vtkThresholdPoints()\n",
    "ThresholdIn.SetInput(Grid)\n",
    "ThresholdIn.ThresholdByUpper(.5)\n"
   ]
  },
  {
   "cell_type": "code",
   "execution_count": 11,
   "metadata": {
    "collapsed": true
   },
   "outputs": [],
   "source": [
    "# Display spheres at the vertices remaining in the cube data set after\n",
    "# it was passed through vtkThresholdPoints.\n",
    "Vertices = vtk.vtkGlyph3D()\n",
    "Vertices.SetInputConnection(ThresholdIn.GetOutputPort())\n",
    "Vertices.SetSourceConnection(Sphere.GetOutputPort())\n"
   ]
  },
  {
   "cell_type": "code",
   "execution_count": 12,
   "metadata": {
    "collapsed": true
   },
   "outputs": [],
   "source": [
    "# Create a mapper and actor to display the glyphs.\n",
    "SphereMapper = vtk.vtkPolyDataMapper()\n",
    "SphereMapper.SetInputConnection(Vertices.GetOutputPort())\n",
    "SphereMapper.ScalarVisibilityOff()\n",
    "CubeVertices = vtk.vtkActor()\n",
    "CubeVertices.SetMapper(SphereMapper)\n",
    "CubeVertices.GetProperty().SetDiffuseColor(tomato)\n",
    "CubeVertices.GetProperty().SetDiffuseColor(tomato)"
   ]
  },
  {
   "cell_type": "code",
   "execution_count": 13,
   "metadata": {
    "collapsed": true
   },
   "outputs": [],
   "source": [
    "# Define the text for the label\n",
    "caseLabel = vtk.vtkVectorText()\n",
    "caseLabel.SetText(\"Case 1\")\n"
   ]
  },
  {
   "cell_type": "code",
   "execution_count": 14,
   "metadata": {
    "collapsed": true
   },
   "outputs": [],
   "source": [
    "# Set up a transform to move the label to a new position.\n",
    "aLabelTransform = vtk.vtkTransform()\n",
    "aLabelTransform.Identity()\n",
    "aLabelTransform.Translate(-0.2, 0, 1.25)\n",
    "aLabelTransform.Scale(.05, .05, .05)\n"
   ]
  },
  {
   "cell_type": "code",
   "execution_count": 15,
   "metadata": {
    "collapsed": true
   },
   "outputs": [],
   "source": [
    "# Move the label to a new position.\n",
    "labelTransform = vtk.vtkTransformPolyDataFilter()\n",
    "labelTransform.SetTransform(aLabelTransform)\n",
    "labelTransform.SetInputConnection(caseLabel.GetOutputPort())\n"
   ]
  },
  {
   "cell_type": "code",
   "execution_count": 16,
   "metadata": {
    "collapsed": true
   },
   "outputs": [],
   "source": [
    "# Create a mapper and actor to display the text.\n",
    "labelMapper = vtk.vtkPolyDataMapper()\n",
    "labelMapper.SetInputConnection(labelTransform.GetOutputPort())\n",
    "\n",
    "labelActor = vtk.vtkActor()\n",
    "labelActor.SetMapper(labelMapper)\n",
    "\n"
   ]
  },
  {
   "cell_type": "code",
   "execution_count": 17,
   "metadata": {
    "collapsed": false
   },
   "outputs": [],
   "source": [
    "# Define the base that the cube sits on.  Create its associated mapper\n",
    "# and actor.  Set the position of the actor.\n",
    "baseModel = vtk.vtkCubeSource()\n",
    "baseModel.SetXLength(1.5)\n",
    "baseModel.SetYLength(.01)\n",
    "baseModel.SetZLength(1.5)\n",
    "baseMapper = vtk.vtkPolyDataMapper()\n",
    "baseMapper.SetInputConnection(baseModel.GetOutputPort())\n",
    "base = vtk.vtkActor()\n",
    "base.SetMapper(baseMapper)\n",
    "base.SetPosition(.5, -0.09, .5)\n",
    "\n",
    "# Create the Renderer, RenderWindow, and RenderWindowInteractor\n",
    "ren = vtk.vtkRenderer()\n",
    "renWin = vtk.vtkRenderWindow()\n",
    "renWin.AddRenderer(ren)\n",
    "renWin.SetSize(640, 480)\n",
    "iren = vtk.vtkRenderWindowInteractor()\n",
    "iren.SetRenderWindow(renWin)\n",
    "\n",
    "# Add the actors to the renderer\n",
    "ren.AddActor(triangleEdgeActor)\n",
    "ren.AddActor(base)\n",
    "ren.AddActor(labelActor)\n",
    "ren.AddActor(CubeEdges)\n",
    "ren.AddActor(CubeVertices)\n",
    "ren.AddActor(Triangles)\n",
    "\n",
    "# Set the background color.\n",
    "ren.SetBackground(slate_grey)\n",
    "\n",
    "# This sets up the right values for case12 of the marching cubes\n",
    "# algorithm (routine translated from vtktesting/mccases.tcl).\n",
    "def case12(scalars, caselabel, IN, OUT):\n",
    "    scalars.InsertValue(0, OUT)\n",
    "    scalars.InsertValue(1, IN)\n",
    "    scalars.InsertValue(2, OUT)\n",
    "    scalars.InsertValue(3, IN)\n",
    "    scalars.InsertValue(4, IN)\n",
    "    scalars.InsertValue(5, IN)\n",
    "    scalars.InsertValue(6, OUT)\n",
    "    scalars.InsertValue(7, OUT)\n",
    "    if IN == 1:\n",
    "        caselabel.SetText(\"Case 12 - 00111010\")\n",
    "    else:\n",
    "        caselabel.SetText(\"Case 12 - 11000101\")\n",
    "\n",
    "# Set the scalar values for this case of marching cubes.\n",
    "case12(Scalars, caseLabel, 0, 1)\n",
    "\n",
    "# Force the grid to update.\n",
    "Grid.Modified()\n",
    "\n",
    "# Position the camera.\n",
    "ren.ResetCamera()\n",
    "ren.GetActiveCamera().Dolly(1.2)\n",
    "ren.GetActiveCamera().Azimuth(30)\n",
    "ren.GetActiveCamera().Elevation(20)\n",
    "ren.ResetCameraClippingRange()\n",
    "\n",
    "iren.Initialize()\n",
    "renWin.Render()\n",
    "iren.Start()\n"
   ]
  },
  {
   "cell_type": "code",
   "execution_count": null,
   "metadata": {
    "collapsed": false
   },
   "outputs": [],
   "source": []
  }
 ],
 "metadata": {
  "kernelspec": {
   "display_name": "Python 2",
   "language": "python",
   "name": "python2"
  },
  "language_info": {
   "codemirror_mode": {
    "name": "ipython",
    "version": 2
   },
   "file_extension": ".py",
   "mimetype": "text/x-python",
   "name": "python",
   "nbconvert_exporter": "python",
   "pygments_lexer": "ipython2",
   "version": "2.7.10"
  }
 },
 "nbformat": 4,
 "nbformat_minor": 0
}
