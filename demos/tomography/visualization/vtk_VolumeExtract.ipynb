{
 "metadata": {
  "name": "",
  "signature": "sha256:e5f85a9898b8d26ba05e1fe62224251095266a0c900be1aa9f30a4a0d38c024f"
 },
 "nbformat": 3,
 "nbformat_minor": 0,
 "worksheets": [
  {
   "cells": [
    {
     "cell_type": "code",
     "collapsed": false,
     "input": [
      "#VTK Documentation Examples\n",
      "#Python PointToCellData\n",
      "\n",
      "# This example demonstrates the conversion of point data to cell data.\n",
      "# The conversion is necessary because we want to threshold data based\n",
      "# on cell scalar values.\n",
      "\n",
      "import vtk\n",
      "from vtk.util.misc import vtkGetDataRoot\n",
      "#VTK_DATA_ROOT = vtkGetDataRoot()\n"
     ],
     "language": "python",
     "metadata": {},
     "outputs": []
    },
    {
     "cell_type": "code",
     "collapsed": false,
     "input": [
      "VTK_DATA_ROOT='/home/giltis/dev/other_src/vtk/VTK-6.1.0/ExternalData/Testing'\n",
      "\n"
     ],
     "language": "python",
     "metadata": {},
     "outputs": []
    },
    {
     "cell_type": "code",
     "collapsed": false,
     "input": [
      "\n",
      "# Read some data with point data attributes. The data is from a\n",
      "# plastic blow molding process (e.g., to make plastic bottles) and\n",
      "# consists of two logical components: a mold and a parison. The\n",
      "# parison is the hot plastic that is being molded, and the mold is\n",
      "# clamped around the parison to form its shape.\n",
      "reader = vtk.vtkUnstructuredGridReader()\n",
      "reader.SetFileName(VTK_DATA_ROOT + \"/Data/blow.vtk\")\n",
      "reader.SetScalarsName(\"thickness9\")\n",
      "reader.SetVectorsName(\"displacement9\")\n"
     ],
     "language": "python",
     "metadata": {},
     "outputs": []
    },
    {
     "cell_type": "code",
     "collapsed": false,
     "input": [
      "\n",
      "# Convert the point data to cell data. The point data is passed\n",
      "# through the filter so it can be warped. The vtkThresholdFilter then\n",
      "# thresholds based on cell scalar values and extracts a portion of the\n",
      "# parison whose cell scalar values lie between 0.25 and 0.75.\n",
      "p2c = vtk.vtkPointDataToCellData()\n",
      "p2c.SetInputConnection(reader.GetOutputPort())\n",
      "p2c.PassPointDataOn()\n",
      "warp = vtk.vtkWarpVector()\n",
      "warp.SetInputConnection(p2c.GetOutputPort())\n",
      "thresh = vtk.vtkThreshold()\n",
      "thresh.SetInputConnection(warp.GetOutputPort())\n",
      "thresh.ThresholdBetween(0.25, 0.75)\n",
      "thresh.SetInputArrayToProcess(1, 0, 0, 0, \"thickness9\")\n",
      "#thresh.SetAttributeModeToUseCellData()\n"
     ],
     "language": "python",
     "metadata": {},
     "outputs": []
    },
    {
     "cell_type": "code",
     "collapsed": false,
     "input": [
      "\n",
      "# This is used to extract the mold from the parison.\n",
      "connect = vtk.vtkConnectivityFilter()\n",
      "connect.SetInputConnection(thresh.GetOutputPort())\n",
      "connect.SetExtractionModeToSpecifiedRegions()\n",
      "connect.AddSpecifiedRegion(0)\n",
      "connect.AddSpecifiedRegion(1)\n",
      "moldMapper = vtk.vtkDataSetMapper()\n",
      "moldMapper.SetInputConnection(reader.GetOutputPort())\n",
      "moldMapper.ScalarVisibilityOff()\n",
      "moldActor = vtk.vtkActor()\n",
      "moldActor.SetMapper(moldMapper)\n",
      "moldActor.GetProperty().SetColor(.2, .2, .2)\n",
      "moldActor.GetProperty().SetRepresentationToWireframe()\n"
     ],
     "language": "python",
     "metadata": {},
     "outputs": []
    },
    {
     "cell_type": "code",
     "collapsed": false,
     "input": [
      "# The threshold filter has been used to extract the parison.\n",
      "connect2 = vtk.vtkConnectivityFilter()\n",
      "connect2.SetInputConnection(thresh.GetOutputPort())\n",
      "parison = vtk.vtkGeometryFilter()\n",
      "parison.SetInputConnection(connect2.GetOutputPort())\n",
      "normals2 = vtk.vtkPolyDataNormals()\n",
      "normals2.SetInputConnection(parison.GetOutputPort())\n",
      "normals2.SetFeatureAngle(60)\n",
      "lut = vtk.vtkLookupTable()\n",
      "lut.SetHueRange(0.0, 0.66667)\n",
      "parisonMapper = vtk.vtkPolyDataMapper()\n",
      "parisonMapper.SetInputConnection(normals2.GetOutputPort())\n",
      "parisonMapper.SetLookupTable(lut)\n",
      "parisonMapper.SetScalarRange(0.12, 1.0)\n",
      "parisonActor = vtk.vtkActor()\n",
      "parisonActor.SetMapper(parisonMapper)\n"
     ],
     "language": "python",
     "metadata": {},
     "outputs": []
    },
    {
     "cell_type": "code",
     "collapsed": false,
     "input": [
      "\n",
      "# We generate some contour lines on the parison.\n",
      "cf = vtk.vtkContourFilter()\n",
      "cf.SetInputConnection(connect2.GetOutputPort())\n",
      "cf.SetValue(0, .5)\n",
      "contourMapper = vtk.vtkPolyDataMapper()\n",
      "contourMapper.SetInputConnection(cf.GetOutputPort())\n",
      "contours = vtk.vtkActor()\n",
      "contours.SetMapper(contourMapper)\n"
     ],
     "language": "python",
     "metadata": {},
     "outputs": []
    },
    {
     "cell_type": "code",
     "collapsed": false,
     "input": [
      "\n",
      "# Create graphics stuff\n",
      "ren = vtk.vtkRenderer()\n",
      "renWin = vtk.vtkRenderWindow()\n",
      "renWin.AddRenderer(ren)\n",
      "iren = vtk.vtkRenderWindowInteractor()\n",
      "iren.SetRenderWindow(renWin)\n"
     ],
     "language": "python",
     "metadata": {},
     "outputs": []
    },
    {
     "cell_type": "code",
     "collapsed": false,
     "input": [
      "\n",
      "# Add the actors to the renderer, set the background and size\n",
      "ren.AddActor(moldActor)\n",
      "ren.AddActor(parisonActor)\n",
      "ren.AddActor(contours)\n"
     ],
     "language": "python",
     "metadata": {},
     "outputs": []
    },
    {
     "cell_type": "code",
     "collapsed": false,
     "input": [
      "\n",
      "ren.ResetCamera()\n",
      "ren.GetActiveCamera().Azimuth(60)\n",
      "ren.GetActiveCamera().Roll(-90)\n",
      "ren.GetActiveCamera().Dolly(2)\n",
      "ren.ResetCameraClippingRange()\n",
      "\n",
      "ren.SetBackground(1, 1, 1)\n",
      "renWin.SetSize(750, 400)\n"
     ],
     "language": "python",
     "metadata": {},
     "outputs": []
    },
    {
     "cell_type": "code",
     "collapsed": false,
     "input": [
      "\n",
      "iren.Initialize()\n",
      "renWin.Render()\n",
      "iren.Start()\n"
     ],
     "language": "python",
     "metadata": {},
     "outputs": []
    },
    {
     "cell_type": "code",
     "collapsed": false,
     "input": [],
     "language": "python",
     "metadata": {},
     "outputs": []
    }
   ],
   "metadata": {}
  }
 ]
}