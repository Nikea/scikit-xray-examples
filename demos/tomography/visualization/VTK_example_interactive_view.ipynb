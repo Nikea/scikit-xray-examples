{
 "metadata": {
  "name": "",
  "signature": "sha256:10ca87705e8e4f34aa81078c233604e1de2f59a97a801a54aec4483792da9d47"
 },
 "nbformat": 3,
 "nbformat_minor": 0,
 "worksheets": [
  {
   "cells": [
    {
     "cell_type": "heading",
     "level": 1,
     "metadata": {},
     "source": [
      "VTK/Examples/Python/vtkWithNumpy"
     ]
    },
    {
     "cell_type": "heading",
     "level": 2,
     "metadata": {},
     "source": [
      "From KitwarePublic\n",
      "< VTK\u200e | Examples\u200e | Python\n",
      "Jump to: navigation, search\n",
      "vtkWithNumpy.py"
     ]
    },
    {
     "cell_type": "code",
     "collapsed": false,
     "input": [
      "# An example from scipy cookbook demonstrating the use of numpy arrys in vtk \n",
      " \n",
      "import vtk\n",
      "import numpy as np \n"
     ],
     "language": "python",
     "metadata": {},
     "outputs": [],
     "prompt_number": 1
    },
    {
     "cell_type": "code",
     "collapsed": false,
     "input": [
      "# We begin by creating the data we want to render.\n",
      "# For this tutorial, we create a 3D-image containing three overlaping cubes.\n",
      "# This data can of course easily be replaced by data from a medical CT-scan or anything else three dimensional.\n",
      "# The only limit is that the data must be reduced to unsigned 8 bit or 16 bit integers.\n",
      "data_matrix = np.zeros([75, 75, 75], dtype='uint8')\n",
      "data_matrix[0:35, 0:35, 0:35] = 50\n",
      "data_matrix[25:55, 25:55, 25:55] = 100\n",
      "data_matrix[45:74, 45:74, 45:74] = 150\n"
     ],
     "language": "python",
     "metadata": {},
     "outputs": [],
     "prompt_number": 2
    },
    {
     "cell_type": "code",
     "collapsed": false,
     "input": [
      "# For VTK to be able to use the data, it must be stored as a VTK-image. This can be done by the vtkImageImport-class which\n",
      "# imports raw data and stores it.\n",
      "dataImporter = vtk.vtkImageImport()\n",
      "# The preaviusly created array is converted to a string of chars and imported.\n",
      "data_string = data_matrix.tostring()\n",
      "dataImporter.CopyImportVoidPointer(data_string, len(data_string))\n",
      "# The type of the newly imported data is set to unsigned char (uint8)\n",
      "dataImporter.SetDataScalarTypeToUnsignedChar()\n",
      "# Because the data that is imported only contains an intensity value (it isnt RGB-coded or someting similar), the importer\n",
      "# must be told this is the case.\n",
      "dataImporter.SetNumberOfScalarComponents(1)\n",
      "# The following two functions describe how the data is stored and the dimensions of the array it is stored in. For this\n",
      "# simple case, all axes are of length 75 and begins with the first element. For other data, this is probably not the case.\n",
      "# I have to admit however, that I honestly dont know the difference between SetDataExtent() and SetWholeExtent() although\n",
      "# VTK complains if not both are used.\n",
      "dataImporter.SetDataExtent(0, 74, 0, 74, 0, 74)\n",
      "dataImporter.SetWholeExtent(0, 74, 0, 74, 0, 74)\n"
     ],
     "language": "python",
     "metadata": {},
     "outputs": [],
     "prompt_number": 3
    },
    {
     "cell_type": "code",
     "collapsed": false,
     "input": [
      "# The following class is used to store transparencyv-values for later retrival. In our case, we want the value 0 to be\n",
      "# completly opaque whereas the three different cubes are given different transperancy-values to show how it works.\n",
      "alphaChannelFunc = vtk.vtkPiecewiseFunction()\n",
      "alphaChannelFunc.AddPoint(0, 0.0)\n",
      "alphaChannelFunc.AddPoint(50, 0.05)\n",
      "alphaChannelFunc.AddPoint(100, 0.1)\n",
      "alphaChannelFunc.AddPoint(150, 0.2)\n",
      " "
     ],
     "language": "python",
     "metadata": {},
     "outputs": [
      {
       "metadata": {},
       "output_type": "pyout",
       "prompt_number": 4,
       "text": [
        "3"
       ]
      }
     ],
     "prompt_number": 4
    },
    {
     "cell_type": "code",
     "collapsed": false,
     "input": [
      "# This class stores color data and can create color tables from a few color points. For this demo, we want the three cubes\n",
      "# to be of the colors red green and blue.\n",
      "colorFunc = vtk.vtkColorTransferFunction()\n",
      "colorFunc.AddRGBPoint(50, 1.0, 0.0, 0.0)\n",
      "colorFunc.AddRGBPoint(100, 0.0, 1.0, 0.0)\n",
      "colorFunc.AddRGBPoint(150, 0.0, 0.0, 1.0)\n",
      " "
     ],
     "language": "python",
     "metadata": {},
     "outputs": [
      {
       "metadata": {},
       "output_type": "pyout",
       "prompt_number": 5,
       "text": [
        "2"
       ]
      }
     ],
     "prompt_number": 5
    },
    {
     "cell_type": "code",
     "collapsed": false,
     "input": [
      "# The preavius two classes stored properties. Because we want to apply these properties to the volume we want to render,\n",
      "# we have to store them in a class that stores volume prpoperties.\n",
      "volumeProperty = vtk.vtkVolumeProperty()\n",
      "volumeProperty.SetColor(colorFunc)\n",
      "volumeProperty.SetScalarOpacity(alphaChannelFunc)\n",
      " "
     ],
     "language": "python",
     "metadata": {},
     "outputs": [],
     "prompt_number": 6
    },
    {
     "cell_type": "code",
     "collapsed": false,
     "input": [
      "# This class describes how the volume is rendered (through ray tracing).\n",
      "compositeFunction = vtk.vtkVolumeRayCastCompositeFunction()\n",
      "# We can finally create our volume. We also have to specify the data for it, as well as how the data will be rendered.\n",
      "volumeMapper = vtk.vtkVolumeRayCastMapper()\n",
      "volumeMapper.SetVolumeRayCastFunction(compositeFunction)\n",
      "volumeMapper.SetInputConnection(dataImporter.GetOutputPort())\n",
      " "
     ],
     "language": "python",
     "metadata": {},
     "outputs": [],
     "prompt_number": 7
    },
    {
     "cell_type": "code",
     "collapsed": false,
     "input": [
      "# The class vtkVolume is used to pair the preaviusly declared volume as well as the properties to be used when rendering that volume.\n",
      "volume = vtk.vtkVolume()\n",
      "volume.SetMapper(volumeMapper)\n",
      "volume.SetProperty(volumeProperty)\n",
      " \n"
     ],
     "language": "python",
     "metadata": {},
     "outputs": [],
     "prompt_number": 8
    },
    {
     "cell_type": "code",
     "collapsed": false,
     "input": [
      "# With almost everything else ready, its time to initialize the renderer and window, as well as creating a method for exiting the application\n",
      "renderer = vtk.vtkRenderer()\n",
      "renderWin = vtk.vtkRenderWindow()\n",
      "renderWin.AddRenderer(renderer)\n",
      "renderInteractor = vtk.vtkRenderWindowInteractor()\n",
      "renderInteractor.SetRenderWindow(renderWin)\n",
      " \n"
     ],
     "language": "python",
     "metadata": {},
     "outputs": [],
     "prompt_number": 9
    },
    {
     "cell_type": "code",
     "collapsed": false,
     "input": [
      "# We add the volume to the renderer ...\n",
      "renderer.AddVolume(volume)\n",
      "# ... set background color to white ...\n",
      "renderer.SetBackground(0,0,0)\n",
      "# ... and set window size.\n",
      "renderWin.SetSize(400, 400)\n",
      " \n"
     ],
     "language": "python",
     "metadata": {},
     "outputs": [],
     "prompt_number": 10
    },
    {
     "cell_type": "code",
     "collapsed": false,
     "input": [
      "# A simple function to be called when the user decides to quit the application.\n",
      "def exitCheck(obj, event):\n",
      "    if obj.GetEventPending() != 0:\n",
      "        obj.SetAbortRender(1)\n",
      " \n",
      "# Tell the application to use the function as an exit check.\n",
      "renderWin.AddObserver(\"AbortCheckEvent\", exitCheck)\n",
      " \n",
      "renderInteractor.Initialize()\n",
      "# Because nothing will be rendered without any input, we order the first render manually before control is handed over to the main-loop.\n",
      "renderWin.Render()\n",
      "renderInteractor.Start()\n"
     ],
     "language": "python",
     "metadata": {},
     "outputs": [],
     "prompt_number": 11
    },
    {
     "cell_type": "code",
     "collapsed": false,
     "input": [],
     "language": "python",
     "metadata": {},
     "outputs": []
    },
    {
     "cell_type": "code",
     "collapsed": false,
     "input": [],
     "language": "python",
     "metadata": {},
     "outputs": []
    }
   ],
   "metadata": {}
  }
 ]
}