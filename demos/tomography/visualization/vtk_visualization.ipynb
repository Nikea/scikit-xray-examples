{
 "cells": [
  {
   "cell_type": "code",
   "execution_count": 1,
   "metadata": {
    "collapsed": false
   },
   "outputs": [],
   "source": [
    "import vtk\n",
    "from IPython.display import Image\n"
   ]
  },
  {
   "cell_type": "code",
   "execution_count": 2,
   "metadata": {
    "collapsed": false
   },
   "outputs": [],
   "source": [
    "def vtk_show(renderer, width=None, height=None):\n",
    "    \"\"\"\n",
    "    Converts a vtkRenderer object into an iPython image\n",
    "    \n",
    "    Note: This method generates an external window within which \n",
    "    rendering actually occurs. The generated image is then returned \n",
    "    to the ipython session.\n",
    "    \n",
    "    Ref: https://pyscience.wordpress.com/2014/09/03/ipython-notebook-vtk/\n",
    "    \"\"\"\n",
    "    if width == None:\n",
    "        width = 400\n",
    "    if height == None:\n",
    "        height=300\n",
    "    \n",
    "    renderWindow = vtk.vtkRenderWindow() #Create new rendering window\n",
    "    renderWindow.SetOffScreenRendering(1) #Enable off-screen rendering\n",
    "    renderWindow.AddRenderer(renderer) #Create instance\n",
    "    renderWindow.SetSize(width, height) #Set Dims\n",
    "    renderWindow.Render() #Execute render operation\n",
    "    \n",
    "    windowToImageFilter = vtk.vtkWindowToImageFilter() #Create a new vtkWindow -> Image filter object which allows us to read teh data in a vtkWindow and use it as input to the imaging pipeline.\n",
    "    windowToImageFilter.SetInput(renderWindow) #Add renderWindow to the filter object\n",
    "    windowToImageFilter.Update() #Update object\n",
    "    \n",
    "    writer = vtk.vtkPNGWriter() #Create vtk PNG writer object thereby allowing creation of PNG images of the vtkWindow rendering\n",
    "    writer.SetWriteToMemory(1) #Setting eq to 1 enables image to be held in memory instead of saving to disk. This is the desired option since the image is meant to be loaded back into the notebook instead of stored on disk\n",
    "    writer.SetInputConnection(windowToImageFilter.GetOutputPort()) # Link between output (GetOutputPort) of vtkWindowToImageFilter and the PNG writer (SetInputConnection)\n",
    "    writer.Write()\n",
    "    data = str(buffer(writer.GetResult()))\n",
    "    \n",
    "    return Image(data)"
   ]
  },
  {
   "cell_type": "code",
   "execution_count": 3,
   "metadata": {
    "collapsed": false
   },
   "outputs": [
    {
     "data": {
      "image/png": "[encoded data removed]",
      "text/plain": [
       "<IPython.core.display.Image object>"
      ]
     },
     "execution_count": 3,
     "metadata": {},
     "output_type": "execute_result"
    }
   ],
   "source": [
    "# Rendering Example: A Red Ball\n",
    "VtkSourceSphere = vtk.vtkSphereSource() #Create a sphere represented by polygons\n",
    "VtkSourceSphere.SetCenter(0.0, 0.0, 0.0) #Define sphere center location\n",
    "VtkSourceSphere.SetRadius(10.0) #Define radius of sphere\n",
    "VtkSourceSphere.SetPhiResolution(360) #Define # of points to include in the latitudinal direction\n",
    "VtkSourceSphere.SetThetaResolution(360) #Define # of points to include in the longitudinal direction\n",
    "\n",
    "VtkMapperSphere = vtk.vtkPolyDataMapper() #Maps polygonal data to graphics primatives\n",
    "VtkMapperSphere.SetInputConnection(VtkSourceSphere.GetOutputPort()) #Connect output port of the sphere source to the input port of the mapper\n",
    "\n",
    "VtkActorSphere = vtk.vtkActor() #The actor represents the object or entity in the rendering scene\n",
    "VtkActorSphere.SetMapper(VtkMapperSphere) # The mapper is connected to the actor in order to connect the sphere object to the actor that will represent it in the rendered image\n",
    "VtkActorSphere.GetProperty().SetColor(1.0, 0.0, 0.0) #SetColor follows the RGB catalogue and each value can range from 0.0 to 1.0. Here the sphere color is being set to RED.\n",
    "\n",
    "VtkRenderer = vtk.vtkRenderer() #Create a new rendering object\n",
    "VtkRenderer.SetBackground(0.5, 0.5, 0.5) #The background color is set to white (1.0, 1.0, 1.0). Conversely, black is (0.0, 0.0, 0.0), again following the RGB catalogue.\n",
    "VtkRenderer.AddActor(VtkActorSphere) #Now the actor that is representing the sphere is connected to the renderer in order to generate the image.\n",
    "\n",
    "vtk_show(VtkRenderer) #Execute and display the rendered result in the ipython notebook."
   ]
  },
  {
   "cell_type": "code",
   "execution_count": null,
   "metadata": {
    "collapsed": false
   },
   "outputs": [],
   "source": []
  }
 ],
 "metadata": {
  "kernelspec": {
   "display_name": "Python 2",
   "language": "python",
   "name": "python2"
  },
  "language_info": {
   "codemirror_mode": {
    "name": "ipython",
    "version": 2
   },
   "file_extension": ".py",
   "mimetype": "text/x-python",
   "name": "python",
   "nbconvert_exporter": "python",
   "pygments_lexer": "ipython2",
   "version": "2.7.10"
  }
 },
 "nbformat": 4,
 "nbformat_minor": 0
}
