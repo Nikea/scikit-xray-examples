{
 "metadata": {
  "name": "",
  "signature": "sha256:e2605b210ae12f03dc1edcc0d0f9ee37e92ea29878dc6281fa7f9cec614dd86c"
 },
 "nbformat": 3,
 "nbformat_minor": 0,
 "worksheets": [
  {
   "cells": [
    {
     "cell_type": "heading",
     "level": 1,
     "metadata": {},
     "source": [
      "One time correlation for X-ray Photon Correlation Spectroscopy Data\n"
     ]
    },
    {
     "cell_type": "code",
     "collapsed": false,
     "input": [
      "import numpy as np\n",
      "from itertools import chain\n",
      "import zipfile\n",
      "import os\n",
      "\n",
      "%matplotlib inline\n",
      "from matplotlib.ticker import MaxNLocator\n",
      "from matplotlib.colors import LogNorm\n",
      "import matplotlib.pyplot as plt\n",
      "import matplotlib.patches as mp"
     ],
     "language": "python",
     "metadata": {},
     "outputs": [
      {
       "output_type": "stream",
       "stream": "stderr",
       "text": [
        "Vendor:  Continuum Analytics, Inc.\n",
        "Package: mkl\n",
        "Message: trial mode expires in 27 days\n"
       ]
      }
     ],
     "prompt_number": 1
    },
    {
     "cell_type": "code",
     "collapsed": false,
     "input": [
      "import skxray.correlation as corr\n",
      "import skxray.core as core"
     ],
     "language": "python",
     "metadata": {},
     "outputs": [],
     "prompt_number": 2
    },
    {
     "cell_type": "heading",
     "level": 3,
     "metadata": {},
     "source": [
      "Number of Roi's "
     ]
    },
    {
     "cell_type": "code",
     "collapsed": false,
     "input": [
      "num_qs = 8"
     ],
     "language": "python",
     "metadata": {},
     "outputs": [],
     "prompt_number": 3
    },
    {
     "cell_type": "code",
     "collapsed": false,
     "input": [
      "img_dim = (256, 256)"
     ],
     "language": "python",
     "metadata": {},
     "outputs": [],
     "prompt_number": 4
    },
    {
     "cell_type": "heading",
     "level": 3,
     "metadata": {},
     "source": [
      "Multi-tau levels"
     ]
    },
    {
     "cell_type": "code",
     "collapsed": false,
     "input": [
      "\n",
      "num_levels = 12\n",
      "num_bufs = 8  # has to be even"
     ],
     "language": "python",
     "metadata": {},
     "outputs": [],
     "prompt_number": 5
    },
    {
     "cell_type": "heading",
     "level": 2,
     "metadata": {},
     "source": [
      "C4B_T 250K data, number of images 9950"
     ]
    },
    {
     "cell_type": "code",
     "collapsed": false,
     "input": [
      "try:\n",
      "    img_stack = np.load(os.path.join(\"C4B_T_250K\", \"50_10000img_data.npy\"))\n",
      "except IOError:\n",
      "    zipfile.ZipFile(os.path.join(\"C4B_T_250K.zip\")).extractall()\n",
      "    img_stack = np.load(os.path.join(\"C4B_T_250K\", \"50_10000img_data.npy\"))\n",
      "\n",
      "qind = (np.loadtxt(\"qinds.txt\").astype(int)).tolist()\n",
      "pix = (np.loadtxt(\"pixellist.txt\").astype(int)).tolist()"
     ],
     "language": "python",
     "metadata": {},
     "outputs": [],
     "prompt_number": 6
    },
    {
     "cell_type": "heading",
     "level": 3,
     "metadata": {},
     "source": [
      "Number of pixels in each roi's"
     ]
    },
    {
     "cell_type": "code",
     "collapsed": false,
     "input": [
      "num_pixels = (np.bincount(qind))[1:]"
     ],
     "language": "python",
     "metadata": {},
     "outputs": [],
     "prompt_number": 7
    },
    {
     "cell_type": "heading",
     "level": 2,
     "metadata": {},
     "source": [
      "Get the average value of the images"
     ]
    },
    {
     "cell_type": "code",
     "collapsed": false,
     "input": [
      "def avg_img(img_array, num_images):\n",
      "    \"\"\"\n",
      "    This will provide the average value of the images\n",
      "    Parameters\n",
      "    ----------\n",
      "    img_array: ndarray\n",
      "        array of stack of images for one time correlation\n",
      "\n",
      "    n_start: int\n",
      "        starting image number\n",
      "\n",
      "    num_images: int\n",
      "        number of images\n",
      "\n",
      "    Returns\n",
      "    ------\n",
      "    avg_img : array\n",
      "\n",
      "    \"\"\"\n",
      "    #n_end = n_start + num_images\n",
      "    avg_img = 0\n",
      "    for n in range(num_images):\n",
      "        avg_img += img_array[n]\n",
      "\n",
      "    avg_img /=float(num_images)\n",
      "    return avg_img\n"
     ],
     "language": "python",
     "metadata": {},
     "outputs": [],
     "prompt_number": 8
    },
    {
     "cell_type": "code",
     "collapsed": false,
     "input": [
      "avg_img = avg_img(img_stack, img_stack.shape[0])  \n"
     ],
     "language": "python",
     "metadata": {},
     "outputs": [],
     "prompt_number": 9
    },
    {
     "cell_type": "heading",
     "level": 2,
     "metadata": {},
     "source": [
      "Plot the average image of 9950 images of C4B_T 250K"
     ]
    },
    {
     "cell_type": "code",
     "collapsed": false,
     "input": [
      "fig, ax = plt.subplots()\n",
      "plt.imshow(avg_img)\n",
      "plt.show()"
     ],
     "language": "python",
     "metadata": {},
     "outputs": [
      {
       "metadata": {},
       "output_type": "display_data",
       "png": "[encoded data removed]",
       "text": [
        "<matplotlib.figure.Figure at 0x10c8f3fd0>"
       ]
      }
     ],
     "prompt_number": 10
    },
    {
     "cell_type": "code",
     "collapsed": false,
     "input": [
      "def test_demo(ax, inds, pix_list, img_dim, image):\n",
      "    \"\"\"\n",
      "    This will plot the reqiured roi's on the image\n",
      "    \"\"\"\n",
      "    tt = np.zeros(img_dim).ravel() * np.nan\n",
      "    tt[pix_list] = inds\n",
      "\n",
      "    vmin, vmax = np.percentile(image, [100, 100])\n",
      "    im = ax.imshow(image, interpolation='none', norm=LogNorm(), vmin=vmin, vmax=vmax)\n",
      "    im = ax.imshow(tt.reshape(*img_dim), cmap='Paired', interpolation='nearest')"
     ],
     "language": "python",
     "metadata": {},
     "outputs": [],
     "prompt_number": 11
    },
    {
     "cell_type": "code",
     "collapsed": false,
     "input": [
      "tt = np.zeros(img_dim).ravel()\n",
      "tt[pix] = qind"
     ],
     "language": "python",
     "metadata": {},
     "outputs": [],
     "prompt_number": 12
    },
    {
     "cell_type": "code",
     "collapsed": false,
     "input": [
      "\n",
      "fig, ax = plt.subplots()\n",
      "plt.title(\"C4B_T_250K_images_50_100000\")\n",
      "test_demo(ax, qind, pix, img_dim, avg_img)\n",
      "plt.show()"
     ],
     "language": "python",
     "metadata": {},
     "outputs": [
      {
       "metadata": {},
       "output_type": "display_data",
       "png": "[encoded data removed]",
       "text": [
        "<matplotlib.figure.Figure at 0x15a601710>"
       ]
      }
     ],
     "prompt_number": 13
    },
    {
     "cell_type": "heading",
     "level": 2,
     "metadata": {},
     "source": [
      "Call the skxray.correlation.auto_corr module to \n",
      "get one time correlation(g2)"
     ]
    },
    {
     "cell_type": "code",
     "collapsed": false,
     "input": [
      "g2, lag_steps, elapsed_time = corr.auto_corr(num_levels, num_bufs, num_qs,\n",
      "                                             num_pixels, pix, qind, img_stack)"
     ],
     "language": "python",
     "metadata": {},
     "outputs": [],
     "prompt_number": 14
    },
    {
     "cell_type": "code",
     "collapsed": false,
     "input": [
      "lag = []\n",
      "lag_steps = np.arange(0, num_bufs)\n",
      "\n",
      "for i in range(2, num_levels + 1):\n",
      "    for j in range(0, num_bufs//2):\n",
      "            lag.append((num_bufs//2 + j)*(2**(i - 1)))\n",
      "lag_steps = np.append(lag_steps, np.array(lag))\n"
     ],
     "language": "python",
     "metadata": {},
     "outputs": [],
     "prompt_number": 21
    },
    {
     "cell_type": "code",
     "collapsed": false,
     "input": [
      "lag_time = 0.001\n",
      "lag_step = lag_steps[:g2.shape[0]]\n",
      "lags = lag_step*lag_time"
     ],
     "language": "python",
     "metadata": {},
     "outputs": [],
     "prompt_number": 22
    },
    {
     "cell_type": "code",
     "collapsed": false,
     "input": [
      "lag_step"
     ],
     "language": "python",
     "metadata": {},
     "outputs": [
      {
       "metadata": {},
       "output_type": "pyout",
       "prompt_number": 23,
       "text": [
        "array([   0,    1,    2,    3,    4,    5,    6,    7,    8,   10,   12,\n",
        "         14,   16,   20,   24,   28,   32,   40,   48,   56,   64,   80,\n",
        "         96,  112,  128,  160,  192,  224,  256,  320,  384,  448,  512,\n",
        "        640,  768,  896, 1024, 1280, 1536, 1792, 2048, 2560, 3072, 3584,\n",
        "       4096, 5120, 6144, 7168])"
       ]
      }
     ],
     "prompt_number": 23
    },
    {
     "cell_type": "heading",
     "level": 3,
     "metadata": {},
     "source": [
      "Elapsed time one-time correlation for 9950 images"
     ]
    },
    {
     "cell_type": "code",
     "collapsed": false,
     "input": [
      "elapsed_time"
     ],
     "language": "python",
     "metadata": {},
     "outputs": [
      {
       "metadata": {},
       "output_type": "pyout",
       "prompt_number": 24,
       "text": [
        "153.44568991661072"
       ]
      }
     ],
     "prompt_number": 24
    },
    {
     "cell_type": "heading",
     "level": 2,
     "metadata": {},
     "source": [
      "Plot g2's"
     ]
    },
    {
     "cell_type": "code",
     "collapsed": false,
     "input": [
      "if num_qs%2 == 0:\n",
      "    y = num_qs/2\n",
      "else:\n",
      "    y = (num_qs/2 +1)\n",
      "fig = plt.figure()\n",
      "    #plt.title(\"g2\")\n",
      "for i in range(num_qs):\n",
      "    ax = fig.add_subplot(2, y, i+1)\n",
      "    #ax.set_title(str(q_ring_val[i][0])+\"-\"+str(q_ring_val[i][1]))\n",
      "    ax.set_ylabel(\"g2\")\n",
      "    ax.set_xlabel(\"lags\")\n",
      "    fig.subplots_adjust(left=0.2, wspace=1, hspace=0.2)\n",
      "    plt.semilogx(lags, g2[:, i], '-o')\n",
      "plt.show()"
     ],
     "language": "python",
     "metadata": {},
     "outputs": [
      {
       "metadata": {},
       "output_type": "display_data",
       "png": "[encoded data removed]",
       "text": [
        "<matplotlib.figure.Figure at 0x15cbaf8d0>"
       ]
      }
     ],
     "prompt_number": 25
    },
    {
     "cell_type": "heading",
     "level": 1,
     "metadata": {},
     "source": [
      "Plot one g2"
     ]
    },
    {
     "cell_type": "code",
     "collapsed": false,
     "input": [
      "\n",
      "plt.semilogx(lags, g2[:,5], '-o')\n",
      "plt.title(\"C4B_T g2\")\n",
      "plt.xlabel(\"lags\")\n",
      "plt.ylabel(\"g2\")\n",
      "plt.show()"
     ],
     "language": "python",
     "metadata": {},
     "outputs": [
      {
       "metadata": {},
       "output_type": "display_data",
       "png": "[encoded data removed]",
       "text": [
        "<matplotlib.figure.Figure at 0x15bd32a50>"
       ]
      }
     ],
     "prompt_number": 35
    },
    {
     "cell_type": "code",
     "collapsed": false,
     "input": [],
     "language": "python",
     "metadata": {},
     "outputs": []
    }
   ],
   "metadata": {}
  }
 ]
}